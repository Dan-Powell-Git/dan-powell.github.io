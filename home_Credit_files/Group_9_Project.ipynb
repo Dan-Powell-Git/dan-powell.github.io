{
 "cells": [
  {
   "cell_type": "markdown",
   "metadata": {
    "id": "hRxy8pZD-8yC"
   },
   "source": [
    "# Modeling Notebook"
   ]
  },
  {
   "cell_type": "markdown",
   "metadata": {
    "id": "zCJ8jw3ZBVDw"
   },
   "source": [
    "Authors: Dan Powell, Melissa Messervy, Matthew Johnescu"
   ]
  },
  {
   "cell_type": "code",
   "execution_count": null,
   "metadata": {
    "id": "F8-Wx4PysxNc",
    "vscode": {
     "languageId": "r"
    }
   },
   "outputs": [],
   "source": [
    "# Matt - Light Gradient Boosting Machine - open-source machine learning framework that uses decision trees to perform classification, ranking, and other tasks.(https://github.com/microsoft/LightGBM)\n",
    "# Dan Powell - SVM\n",
    "# Melissa - Logistic Regression"
   ]
  },
  {
   "cell_type": "markdown",
   "metadata": {
    "id": "Wys-wiewA__t"
   },
   "source": [
    "# Table of Contents:\n",
    "- [Introduction](#introdution)\n",
    "- [Loading Packages](#loading-packages)\n",
    "- [Loading Data](#loading-data)\n",
    "- [Cleaning Data](#cleaning-data)\n",
    "- [LightGBM Model](#lightgbm-model)\n",
    "  - [Prepping Model](#prepping-model)\n",
    "  - [Running Model with Cross-Validation](#runnig-model-with-cross-validation)\n",
    "  - [Early Stopping](#early-stopping)\n",
    "  - [Plotting Feature Importance](#plotting-feature-importance)\n",
    "  - [Adjusting for Class Imbalance](#adjusting-for-class-imbalance)\n",
    "  - [Re-Train Model with Updated Parameters](#re-train-model-with-updated-parameters)\n",
    "  - [Non-Kaggle Evaluation Score](#non-kaggle-evaluation-score)\n",
    "  - [LightGBM Conclusions](#lightgbm-conclusions)\n",
    "\n",
    "- [Support Vector Machine](#support-vector-machine)\n",
    "  - [Feature Selection and SVM Data Preparation](#feature-selection-and-svm-model-preparation)\n",
    "  - [Simple Linear Model](#simple-linear-model)\n",
    "    - [Simple 3-Fold Cross Validation with Linear SVM Model](simple3-fold-cross-validation-with-linear-svm-model)\n",
    "    - [SMOTE Linear SVM Model](smote-linear-svm-model)\n",
    "  - [Test Data](test-data)\n",
    "  - [SVM Conclusions](svm-conclusions)\n"
   ]
  },
  {
   "cell_type": "markdown",
   "metadata": {
    "id": "Egtb20MfBRgG"
   },
   "source": [
    "# Introduction\n",
    "This notebook aims to develop a predictive model to determine loan repayment ability for individuals with limited or no traditional credit history, addressing Home Credit's challenge of serving underserved populations. By utilizing alternative data sources such as telco and transactional information, we aim to enhance the loan approval process, minimize defaults, and expand access to responsible credit.\n",
    "\n",
    "The goal is to increase loan approval rates for creditworthy individuals, reduce default rates, and broaden financial inclusion while providing optimized loan terms. These improvements will help Home Credit expand its client base responsibly and increase profitability.\n",
    "\n",
    "The notebook explores supervised machine learning techniques, focusing on classification models to predict loan default probability using both traditional and alternative data. The main performance metric is the Area Under the ROC Curve (AUC-ROC), along with metrics like increased loan approvals and reduced defaults.\n",
    "\n",
    "We will compare the performance of Light Gradient Boosting Machine (LightGBM), Support Vector Machine (SVM), and Logistic Regression models to identify the best approach. Issues such as class imbalance, cross-validation, and feature importance are addressed to ensure a robust and accurate final model.\n",
    "\n",
    "By combining these approaches, this notebook aims to improve loan approval accuracy and support Home Credit's mission to expand responsible access to credit."
   ]
  },
  {
   "cell_type": "markdown",
   "metadata": {
    "id": "UXoP0_bfw6n0"
   },
   "source": [
    "# Loading Packages\n",
    "\n"
   ]
  },
  {
   "cell_type": "code",
   "execution_count": null,
   "metadata": {
    "colab": {
     "base_uri": "https://localhost:8080/"
    },
    "id": "-SK_8qRPxnsL",
    "outputId": "6ef7ca4c-0ec4-4ae3-b974-57b64a730d97",
    "vscode": {
     "languageId": "r"
    }
   },
   "outputs": [
    {
     "name": "stderr",
     "output_type": "stream",
     "text": [
      "\n",
      "Attaching package: ‘dplyr’\n",
      "\n",
      "\n",
      "The following objects are masked from ‘package:stats’:\n",
      "\n",
      "    filter, lag\n",
      "\n",
      "\n",
      "The following objects are masked from ‘package:base’:\n",
      "\n",
      "    intersect, setdiff, setequal, union\n",
      "\n",
      "\n",
      "Installing package into ‘/usr/local/lib/R/site-library’\n",
      "(as ‘lib’ is unspecified)\n",
      "\n",
      "also installing the dependencies ‘listenv’, ‘parallelly’, ‘future’, ‘globals’, ‘shape’, ‘future.apply’, ‘numDeriv’, ‘progressr’, ‘SQUAREM’, ‘diagram’, ‘lava’, ‘prodlim’, ‘proxy’, ‘iterators’, ‘clock’, ‘gower’, ‘hardhat’, ‘ipred’, ‘timeDate’, ‘e1071’, ‘foreach’, ‘ModelMetrics’, ‘plyr’, ‘pROC’, ‘recipes’, ‘reshape2’\n",
      "\n",
      "\n",
      "Loading required package: ggplot2\n",
      "\n",
      "Loading required package: lattice\n",
      "\n",
      "Type 'citation(\"pROC\")' for a citation.\n",
      "\n",
      "\n",
      "Attaching package: ‘pROC’\n",
      "\n",
      "\n",
      "The following objects are masked from ‘package:stats’:\n",
      "\n",
      "    cov, smooth, var\n",
      "\n",
      "\n",
      "Installing package into ‘/usr/local/lib/R/site-library’\n",
      "(as ‘lib’ is unspecified)\n",
      "\n",
      "\n",
      "Attaching package: ‘kernlab’\n",
      "\n",
      "\n",
      "The following object is masked from ‘package:ggplot2’:\n",
      "\n",
      "    alpha\n",
      "\n",
      "\n"
     ]
    }
   ],
   "source": [
    "#packages\n",
    "library(dplyr)\n",
    "install.packages(\"caret\")\n",
    "library(caret)\n",
    "library(pROC)\n",
    "install.packages('kernlab')\n",
    "library(kernlab)\n",
    "\n",
    "# This will take like 7 minutes to install, feel free to comment out or temp remove when working\n",
    "#install.packages(\"lightgbm\", repos = \"https://cloud.r-project.org\")\n",
    "#library(lightgbm)\n"
   ]
  },
  {
   "cell_type": "markdown",
   "metadata": {
    "id": "R1Plq_TEVFHn"
   },
   "source": [
    "# Loading Data"
   ]
  },
  {
   "cell_type": "code",
   "execution_count": null,
   "metadata": {
    "id": "RwhwrkoexDo6",
    "vscode": {
     "languageId": "r"
    }
   },
   "outputs": [],
   "source": [
    "#load in training and test data\n",
    "\n",
    "train_data <- read.csv('/content/application_train.csv', stringsAsFactors = TRUE)\n",
    "test_data <- read.csv('/content/application_test.csv')\n",
    "cleanedTrainData <- train_data"
   ]
  },
  {
   "cell_type": "markdown",
   "metadata": {
    "id": "cPUvJcDyVpJI"
   },
   "source": [
    "# Cleaning Data"
   ]
  },
  {
   "cell_type": "code",
   "execution_count": null,
   "metadata": {
    "colab": {
     "base_uri": "https://localhost:8080/"
    },
    "id": "84zjFnkYpU9S",
    "outputId": "f99988d5-782b-4807-991d-b6596e79e98a",
    "vscode": {
     "languageId": "r"
    }
   },
   "outputs": [
    {
     "name": "stdout",
     "output_type": "stream",
     "text": [
      " [1] \"NAME_CONTRACT_TYPE\"         \"CODE_GENDER\"               \n",
      " [3] \"FLAG_OWN_CAR\"               \"FLAG_OWN_REALTY\"           \n",
      " [5] \"NAME_TYPE_SUITE\"            \"NAME_INCOME_TYPE\"          \n",
      " [7] \"NAME_EDUCATION_TYPE\"        \"NAME_FAMILY_STATUS\"        \n",
      " [9] \"NAME_HOUSING_TYPE\"          \"OCCUPATION_TYPE\"           \n",
      "[11] \"WEEKDAY_APPR_PROCESS_START\" \"ORGANIZATION_TYPE\"         \n",
      "[13] \"FONDKAPREMONT_MODE\"         \"HOUSETYPE_MODE\"            \n",
      "[15] \"WALLSMATERIAL_MODE\"         \"EMERGENCYSTATE_MODE\"       \n",
      "character(0)\n"
     ]
    }
   ],
   "source": [
    "set.seed(123)\n",
    "# Function to clean data\n",
    "clean_data <- function(data) {\n",
    "  # Get list of all factor columns\n",
    "  factor_cols <- names(data)[sapply(data, is.factor)]\n",
    "  print(factor_cols)\n",
    "  # Replace the null values with a value of \"missing\"\n",
    "  data[factor_cols][is.na(data[factor_cols])] <- \"missing\"\n",
    "  data$isCashLoan <- ifelse(data$NAME_CONTRACT_TYPE %in% c(\"Cash loans\"), 1, 0)\n",
    "  # Convert married to new column that includes 1 if in married or civil marriage and 0 otherwise\n",
    "  data$isMarried <- ifelse(data$NAME_FAMILY_STATUS %in% c(\"Married\", \"Civil marriage\"), 1, 0)\n",
    "  # Creating variable for more than secondary education\n",
    "  data$morethanSecondaryEd <- ifelse(data$NAME_EDUCATION_TYPE %in% c(\"Higher education\", \"Incomplete higher\", \"Academic degree\"), 1, 0)\n",
    "  # Creating variable for secondary or lower education\n",
    "  data$SecondaryorLowerEd <- ifelse(data$NAME_EDUCATION_TYPE %in% c(\"Secondary / secondary special\", \"Lower secondary\"), 1, 0)\n",
    "  #making factor column for isCashLoan\n",
    "  # Create an anomalous group - where days employed exceeds 100 years\n",
    "  data$DAY_EMPLOYED_ANOM <- ifelse(data$DAYS_EMPLOYED >= 36500, 1, 0)\n",
    "  # Remove the anomalous groups from the data\n",
    "  data$DAYS_EMPLOYED[data$DAYS_EMPLOYED > 36500] <- NA\n",
    "  # Create column for years old instead of days old for readability\n",
    "  data$YearsOld <- data$DAYS_BIRTH / -365\n",
    "  # Divide the age data in bins for every 10 years\n",
    "  data$age_group <- cut(\n",
    "    data$YearsOld,\n",
    "    breaks = seq(min(data$YearsOld, na.rm = TRUE), max(data$YearsOld, na.rm = TRUE), by = 10),\n",
    "    labels = as.character(seq(round(min(data$YearsOld, na.rm = TRUE),0), round((max(data$YearsOld, na.rm = TRUE) - 10),0) , by = 10)),\n",
    "    include.lowest = TRUE\n",
    "  )\n",
    "  data$age_group <- as.factor(ifelse(is.na(data$age_group), \"age_group_missing\", data$age_group))\n",
    "  return(data)\n",
    "}\n",
    "\n",
    "# Clean train and test data\n",
    "cleanedTrainData <- clean_data(train_data)\n",
    "cleanedTestData <- clean_data(test_data)"
   ]
  },
  {
   "cell_type": "code",
   "execution_count": null,
   "metadata": {
    "colab": {
     "base_uri": "https://localhost:8080/",
     "height": 104
    },
    "collapsed": true,
    "id": "Af4-bY0By3YP",
    "outputId": "6cce04ec-596d-4407-f82b-ba61f3495fe9",
    "vscode": {
     "languageId": "r"
    }
   },
   "outputs": [
    {
     "data": {
      "text/plain": [
       "\n",
       "                1                 2                 3                 4 \n",
       "            49044             82770             75458             67945 \n",
       "age_group_missing \n",
       "            32294 "
      ]
     },
     "metadata": {},
     "output_type": "display_data"
    }
   ],
   "source": [
    "#summary(cleanedTrainData)\n",
    "table(cleanedTrainData$age_group)"
   ]
  },
  {
   "cell_type": "markdown",
   "metadata": {
    "id": "jq-YSa6DIr2f"
   },
   "source": [
    "# LightGBM Model"
   ]
  },
  {
   "cell_type": "markdown",
   "metadata": {
    "id": "BdJT65UhUFZ0"
   },
   "source": [
    "## Prepping Model"
   ]
  },
  {
   "cell_type": "code",
   "execution_count": null,
   "metadata": {
    "colab": {
     "background_save": true
    },
    "id": "ARbcgp1jJIWF",
    "vscode": {
     "languageId": "r"
    }
   },
   "outputs": [],
   "source": [
    "# Set seed for reproducibility\n",
    "set.seed(123)\n",
    "\n",
    "# Split training data into training and validation sets (New Step: Splitting Data for Evaluation)\n",
    "trainIndex <- createDataPartition(cleanedTrainData$TARGET, p = 0.8, list = FALSE)\n",
    "trainSet <- cleanedTrainData[trainIndex, ]\n",
    "validationSet <- cleanedTrainData[-trainIndex, ]\n",
    "\n",
    "# Define the target variable and feature columns\n",
    "target_variable <- \"TARGET\"\n",
    "features <- setdiff(names(cleanedTrainData), target_variable)\n",
    "\n",
    "# Prepare data for LightGBM\n",
    "train_matrix <- lgb.Dataset(data = as.matrix(trainSet[, features]), label = trainSet[, target_variable], free_raw_data = FALSE)\n",
    "validation_matrix <- lgb.Dataset(data = as.matrix(validationSet[, features]), label = validationSet[, target_variable], free_raw_data = FALSE)\n",
    "\n",
    "# Set parameters for LightGBM\n",
    "params <- list(\n",
    "  objective = \"binary\",\n",
    "  boosting_type = \"gbdt\",\n",
    "  num_leaves = 31,\n",
    "  learning_rate = 0.05,\n",
    "  feature_fraction = 0.9\n",
    ")\n"
   ]
  },
  {
   "cell_type": "markdown",
   "metadata": {
    "id": "5dF5Z_RE7Cii"
   },
   "source": [
    "## Running Model with Cross Validation"
   ]
  },
  {
   "cell_type": "code",
   "execution_count": null,
   "metadata": {
    "colab": {
     "background_save": true
    },
    "id": "HIHNFe9R7F-J",
    "vscode": {
     "languageId": "r"
    }
   },
   "outputs": [],
   "source": [
    "# Cross-Validation\n",
    "cv_results <- lgb.cv(params = params, data = train_matrix, nrounds = 500, nfold = 5, stratified = TRUE, eval = \"auc\", verbose = -1)\n",
    "print(cv_results)"
   ]
  },
  {
   "cell_type": "markdown",
   "metadata": {
    "id": "kvP0IPKZ7LvQ"
   },
   "source": [
    "## Early Stopping"
   ]
  },
  {
   "cell_type": "code",
   "execution_count": null,
   "metadata": {
    "colab": {
     "background_save": true
    },
    "id": "HrI3hKCC7QtD",
    "vscode": {
     "languageId": "r"
    }
   },
   "outputs": [],
   "source": [
    "# Early Stopping\n",
    "lgb_model <- lgb.train(params = params, data = train_matrix, nrounds = 500, valids = list(validation = validation_matrix), early_stopping_rounds = 100, verbose = -1)\n"
   ]
  },
  {
   "cell_type": "code",
   "execution_count": null,
   "metadata": {
    "colab": {
     "background_save": true
    },
    "id": "kyhX3h-CMD6H",
    "vscode": {
     "languageId": "r"
    }
   },
   "outputs": [],
   "source": [
    "print(lgb_model)"
   ]
  },
  {
   "cell_type": "markdown",
   "metadata": {
    "id": "53u9mXfr7qp3"
   },
   "source": [
    "## Plotting Feature Importance"
   ]
  },
  {
   "cell_type": "code",
   "execution_count": null,
   "metadata": {
    "colab": {
     "background_save": true
    },
    "id": "UXvwJBG37uFn",
    "vscode": {
     "languageId": "r"
    }
   },
   "outputs": [],
   "source": [
    "# Feature Importance Plot\n",
    "importance <- lgb.importance(lgb_model)\n",
    "lgb.plot.importance(importance, top_n = 20)"
   ]
  },
  {
   "cell_type": "markdown",
   "metadata": {
    "id": "xiG35vOG71Cn"
   },
   "source": [
    "## Adjusting for the class Imbalance"
   ]
  },
  {
   "cell_type": "code",
   "execution_count": null,
   "metadata": {
    "colab": {
     "background_save": true
    },
    "id": "t5ee-OeG78Vi",
    "vscode": {
     "languageId": "r"
    }
   },
   "outputs": [],
   "source": [
    "# Address Class Imbalance\n",
    "params$scale_pos_weight <- sum(trainSet$TARGET == 0) / sum(trainSet$TARGET == 1)"
   ]
  },
  {
   "cell_type": "markdown",
   "metadata": {
    "id": "yY0aCyi48CEP"
   },
   "source": [
    "This may help performance becuase of the large imbalance in classes found in EDA"
   ]
  },
  {
   "cell_type": "markdown",
   "metadata": {
    "id": "3FPV7MqoUbo5"
   },
   "source": [
    "## Re-train model with updated parameters\n",
    "\n"
   ]
  },
  {
   "cell_type": "code",
   "execution_count": null,
   "metadata": {
    "colab": {
     "background_save": true
    },
    "id": "JL5NFDIyUf79",
    "vscode": {
     "languageId": "r"
    }
   },
   "outputs": [],
   "source": [
    "# Set seed for reproducibility\n",
    "set.seed(123)\n",
    "# Re-train model with updated parameters\n",
    "lgb_model <- lgb.train(params = params, data = train_matrix, nrounds = cv_results$best_iter, valids = list(validation = validation_matrix), early_stopping_rounds = 50, verbose = -1)\n"
   ]
  },
  {
   "cell_type": "markdown",
   "metadata": {},
   "source": [
    "Updating and running model based on conclusions from tryong different model levers\n",
    "\n",
    "Implemented early stopping"
   ]
  },
  {
   "cell_type": "markdown",
   "metadata": {
    "id": "40AupsD58b6d"
   },
   "source": [
    "## Non-Kaggle Evaluation Score"
   ]
  },
  {
   "cell_type": "code",
   "execution_count": null,
   "metadata": {
    "colab": {
     "background_save": true
    },
    "id": "3uLo-oBb8gRf",
    "vscode": {
     "languageId": "r"
    }
   },
   "outputs": [],
   "source": [
    "# Evaluation Metrics (New Step: Evaluation Metrics)\n",
    "roc_auc <- roc(validationSet$TARGET, predict(lgb_model, as.matrix(validationSet[, features])))$auc\n",
    "cat(\"ROC AUC: \", roc_auc, \"\\n\")\n",
    "\n",
    "# Confusion Matrix (New Step: Confusion Matrix)\n",
    "predicted_classes <- ifelse(predict(lgb_model, as.matrix(validationSet[, features])) > 0.5, 1, 0)\n",
    "conf_matrix <- table(Predicted = predicted_classes, Actual = validationSet$TARGET)\n",
    "print(conf_matrix)"
   ]
  },
  {
   "cell_type": "markdown",
   "metadata": {},
   "source": [
    "This is slightly different than Kaggle but represents the accuracy for this particular seed"
   ]
  },
  {
   "cell_type": "markdown",
   "metadata": {
    "id": "sEStqZ6OUuds"
   },
   "source": [
    "## Get Kaggle Submission Score"
   ]
  },
  {
   "cell_type": "code",
   "execution_count": null,
   "metadata": {
    "colab": {
     "background_save": true
    },
    "id": "nA0BHzCFNtEg",
    "vscode": {
     "languageId": "r"
    }
   },
   "outputs": [],
   "source": [
    "# Ensure both training and test data have consistent feature sets\n",
    "features_in_test <- intersect(features, names(cleanedTestData))\n",
    "missing_features <- setdiff(features, features_in_test)\n",
    "for (feature in missing_features) {\n",
    "  cleanedTestData[[feature]] <- 0\n",
    "}\n",
    "\n",
    "test_matrix <- as.matrix(cleanedTestData[, features])\n",
    "# Make predictions on the test set\n",
    "predictions <- predict(lgb_model, test_matrix)\n",
    "\n",
    "# Load sample submission file\n",
    "sample_submission <- read.csv('/content/sample_submission.csv')\n",
    "\n",
    "# Add predictions to the sample submission\n",
    "sample_submission$TARGET <- predictions\n",
    "\n",
    "# Save the updated submission file\n",
    "write.csv(sample_submission, '/content/submissionlgbm5.csv', row.names = FALSE)\n",
    "\n",
    "cat(\"Number of rows in predictions: \", length(predicted_classes), \"\\n\")\n",
    "cat(\"Number of rows in sample submission: \", nrow(sample_submission.csv), \"\\n\")\n"
   ]
  },
  {
   "cell_type": "code",
   "execution_count": null,
   "metadata": {
    "id": "JlyHAkRQUzdO",
    "vscode": {
     "languageId": "r"
    }
   },
   "outputs": [],
   "source": [
    "\n",
    "\n",
    "# Ensure both training and test data have consistent feature sets\n",
    "features_in_test <- intersect(features, names(cleanedTestData))\n",
    "missing_features <- setdiff(features, features_in_test)\n",
    "for (feature in missing_features) {\n",
    "  cleanedTestData[[feature]] <- 0\n",
    "}\n",
    "\n",
    "test_matrix <- as.matrix(cleanedTestData[, features])\n",
    "# Make predictions on the test set\n",
    "predictions <- predict(lgb_model, test_matrix)\n",
    "\n",
    "# Load sample submission file\n",
    "sample_submission <- read.csv('/content/sample_submission.csv')\n",
    "\n",
    "# Add predictions to the sample submission\n",
    "sample_submission$TARGET <- predictions\n",
    "\n",
    "# Save the updated submission file\n",
    "write.csv(sample_submission, '/content/submissionlgbm5.csv', row.names = FALSE)\n"
   ]
  },
  {
   "cell_type": "markdown",
   "metadata": {
    "id": "Ws9BirQc8nrv"
   },
   "source": [
    "**Results:**\n",
    "- FIRST SUBMISSION SCORE: 0.73977\n",
    "- SECOND SUBMISSION SCORE: 0.68161\n",
    "- THIRD SUBMISSION SCORE: 0.73631\n",
    "- FOURTH SUBMISSION SCORE: 0.74085"
   ]
  },
  {
   "cell_type": "markdown",
   "metadata": {
    "id": "Zvj4pChO03wV"
   },
   "source": [
    "# Support Vector Machine (My Section)"
   ]
  },
  {
   "cell_type": "markdown",
   "metadata": {
    "id": "zunZ3QAX0_Ss"
   },
   "source": [
    "The next model we will use is support vector machine. We chose this method as SVM supports predicting binary outcomes and can be effective in high dimensional spaces. Additionally, SVM models can be robust to overfitting since they focus on a subset of datapoints (support vectors) to define the decision boundary. This can reduce overfitting, which a high-dimensional model can be prone to. Finally, we chose SVM since it can handle imbalanced data. Our dataset is imbalanced, with only ~8% of our observations in our training dataset being a default.\n",
    "\n",
    "Here, we will run a few models. First, we will run a model using the top 10 most postively and negatively correlated values with a simple linear SVM. We will then use evaluation metrics such as percision, recall and F1 score; and a confusion matrix to identify if and how we can improve the model."
   ]
  },
  {
   "cell_type": "markdown",
   "metadata": {
    "id": "FwQz-ojPVLyU"
   },
   "source": [
    "## Feature Selection and SVM Data Preparation"
   ]
  },
  {
   "cell_type": "code",
   "execution_count": null,
   "metadata": {
    "colab": {
     "base_uri": "https://localhost:8080/",
     "height": 1000
    },
    "id": "Ci3p3nohVQRx",
    "outputId": "67bf0f2f-bba7-4aa9-fd26-7a2107f3e5ee",
    "vscode": {
     "languageId": "r"
    }
   },
   "outputs": [
    {
     "data": {
      "text/html": [
       "<table class=\"dataframe\">\n",
       "<caption>A data.frame: 29 × 2</caption>\n",
       "<thead>\n",
       "\t<tr><th></th><th scope=col>Percent_Nulls</th><th scope=col>Correlation_with_Target</th></tr>\n",
       "\t<tr><th></th><th scope=col>&lt;dbl&gt;</th><th scope=col>&lt;dbl&gt;</th></tr>\n",
       "</thead>\n",
       "<tbody>\n",
       "\t<tr><th scope=row>TARGET</th><td>0.0000000000</td><td> 1.00000000</td></tr>\n",
       "\t<tr><th scope=row>DAYS_BIRTH</th><td>0.0000000000</td><td> 0.07823931</td></tr>\n",
       "\t<tr><th scope=row>YearsOld</th><td>0.0000000000</td><td>-0.07823931</td></tr>\n",
       "\t<tr><th scope=row>REGION_RATING_CLIENT_W_CITY</th><td>0.0000000000</td><td> 0.06089267</td></tr>\n",
       "\t<tr><th scope=row>REGION_RATING_CLIENT</th><td>0.0000000000</td><td> 0.05889901</td></tr>\n",
       "\t<tr><th scope=row>morethanSecondaryEd</th><td>0.0000000000</td><td>-0.05339135</td></tr>\n",
       "\t<tr><th scope=row>SecondaryorLowerEd</th><td>0.0000000000</td><td> 0.05339135</td></tr>\n",
       "\t<tr><th scope=row>DAYS_ID_PUBLISH</th><td>0.0000000000</td><td> 0.05145717</td></tr>\n",
       "\t<tr><th scope=row>REG_CITY_NOT_WORK_CITY</th><td>0.0000000000</td><td> 0.05099446</td></tr>\n",
       "\t<tr><th scope=row>DAY_EMPLOYED_ANOM</th><td>0.0000000000</td><td>-0.04598708</td></tr>\n",
       "\t<tr><th scope=row>FLAG_EMP_PHONE</th><td>0.0000000000</td><td> 0.04598222</td></tr>\n",
       "\t<tr><th scope=row>REG_CITY_NOT_LIVE_CITY</th><td>0.0000000000</td><td> 0.04439537</td></tr>\n",
       "\t<tr><th scope=row>FLAG_DOCUMENT_3</th><td>0.0000000000</td><td> 0.04434635</td></tr>\n",
       "\t<tr><th scope=row>DAYS_REGISTRATION</th><td>0.0000000000</td><td> 0.04197486</td></tr>\n",
       "\t<tr><th scope=row>REGION_POPULATION_RELATIVE</th><td>0.0000000000</td><td>-0.03722715</td></tr>\n",
       "\t<tr><th scope=row>LIVE_CITY_NOT_WORK_CITY</th><td>0.0000000000</td><td> 0.03251834</td></tr>\n",
       "\t<tr><th scope=row>isCashLoan</th><td>0.0000000000</td><td> 0.03089591</td></tr>\n",
       "\t<tr><th scope=row>AMT_CREDIT</th><td>0.0000000000</td><td>-0.03036929</td></tr>\n",
       "\t<tr><th scope=row>FLAG_DOCUMENT_6</th><td>0.0000000000</td><td>-0.02860189</td></tr>\n",
       "\t<tr><th scope=row>FLAG_WORK_PHONE</th><td>0.0000000000</td><td> 0.02852432</td></tr>\n",
       "\t<tr><th scope=row>HOUR_APPR_PROCESS_START</th><td>0.0000000000</td><td>-0.02416583</td></tr>\n",
       "\t<tr><th scope=row>FLAG_PHONE</th><td>0.0000000000</td><td>-0.02380627</td></tr>\n",
       "\t<tr><th scope=row>CNT_CHILDREN</th><td>0.0000000000</td><td> 0.01918713</td></tr>\n",
       "\t<tr><th scope=row>isMarried</th><td>0.0000000000</td><td>-0.01219204</td></tr>\n",
       "\t<tr><th scope=row>FLAG_DOCUMENT_16</th><td>0.0000000000</td><td>-0.01161467</td></tr>\n",
       "\t<tr><th scope=row>FLAG_DOCUMENT_13</th><td>0.0000000000</td><td>-0.01158322</td></tr>\n",
       "\t<tr><th scope=row>DAYS_LAST_PHONE_CHANGE</th><td>0.0003251916</td><td> 0.05521848</td></tr>\n",
       "\t<tr><th scope=row>AMT_ANNUITY</th><td>0.0039022994</td><td>-0.01281656</td></tr>\n",
       "\t<tr><th scope=row>AMT_GOODS_PRICE</th><td>0.0904032701</td><td>-0.03964528</td></tr>\n",
       "</tbody>\n",
       "</table>\n"
      ],
      "text/latex": [
       "A data.frame: 29 × 2\n",
       "\\begin{tabular}{r|ll}\n",
       "  & Percent\\_Nulls & Correlation\\_with\\_Target\\\\\n",
       "  & <dbl> & <dbl>\\\\\n",
       "\\hline\n",
       "\tTARGET & 0.0000000000 &  1.00000000\\\\\n",
       "\tDAYS\\_BIRTH & 0.0000000000 &  0.07823931\\\\\n",
       "\tYearsOld & 0.0000000000 & -0.07823931\\\\\n",
       "\tREGION\\_RATING\\_CLIENT\\_W\\_CITY & 0.0000000000 &  0.06089267\\\\\n",
       "\tREGION\\_RATING\\_CLIENT & 0.0000000000 &  0.05889901\\\\\n",
       "\tmorethanSecondaryEd & 0.0000000000 & -0.05339135\\\\\n",
       "\tSecondaryorLowerEd & 0.0000000000 &  0.05339135\\\\\n",
       "\tDAYS\\_ID\\_PUBLISH & 0.0000000000 &  0.05145717\\\\\n",
       "\tREG\\_CITY\\_NOT\\_WORK\\_CITY & 0.0000000000 &  0.05099446\\\\\n",
       "\tDAY\\_EMPLOYED\\_ANOM & 0.0000000000 & -0.04598708\\\\\n",
       "\tFLAG\\_EMP\\_PHONE & 0.0000000000 &  0.04598222\\\\\n",
       "\tREG\\_CITY\\_NOT\\_LIVE\\_CITY & 0.0000000000 &  0.04439537\\\\\n",
       "\tFLAG\\_DOCUMENT\\_3 & 0.0000000000 &  0.04434635\\\\\n",
       "\tDAYS\\_REGISTRATION & 0.0000000000 &  0.04197486\\\\\n",
       "\tREGION\\_POPULATION\\_RELATIVE & 0.0000000000 & -0.03722715\\\\\n",
       "\tLIVE\\_CITY\\_NOT\\_WORK\\_CITY & 0.0000000000 &  0.03251834\\\\\n",
       "\tisCashLoan & 0.0000000000 &  0.03089591\\\\\n",
       "\tAMT\\_CREDIT & 0.0000000000 & -0.03036929\\\\\n",
       "\tFLAG\\_DOCUMENT\\_6 & 0.0000000000 & -0.02860189\\\\\n",
       "\tFLAG\\_WORK\\_PHONE & 0.0000000000 &  0.02852432\\\\\n",
       "\tHOUR\\_APPR\\_PROCESS\\_START & 0.0000000000 & -0.02416583\\\\\n",
       "\tFLAG\\_PHONE & 0.0000000000 & -0.02380627\\\\\n",
       "\tCNT\\_CHILDREN & 0.0000000000 &  0.01918713\\\\\n",
       "\tisMarried & 0.0000000000 & -0.01219204\\\\\n",
       "\tFLAG\\_DOCUMENT\\_16 & 0.0000000000 & -0.01161467\\\\\n",
       "\tFLAG\\_DOCUMENT\\_13 & 0.0000000000 & -0.01158322\\\\\n",
       "\tDAYS\\_LAST\\_PHONE\\_CHANGE & 0.0003251916 &  0.05521848\\\\\n",
       "\tAMT\\_ANNUITY & 0.0039022994 & -0.01281656\\\\\n",
       "\tAMT\\_GOODS\\_PRICE & 0.0904032701 & -0.03964528\\\\\n",
       "\\end{tabular}\n"
      ],
      "text/markdown": [
       "\n",
       "A data.frame: 29 × 2\n",
       "\n",
       "| <!--/--> | Percent_Nulls &lt;dbl&gt; | Correlation_with_Target &lt;dbl&gt; |\n",
       "|---|---|---|\n",
       "| TARGET | 0.0000000000 |  1.00000000 |\n",
       "| DAYS_BIRTH | 0.0000000000 |  0.07823931 |\n",
       "| YearsOld | 0.0000000000 | -0.07823931 |\n",
       "| REGION_RATING_CLIENT_W_CITY | 0.0000000000 |  0.06089267 |\n",
       "| REGION_RATING_CLIENT | 0.0000000000 |  0.05889901 |\n",
       "| morethanSecondaryEd | 0.0000000000 | -0.05339135 |\n",
       "| SecondaryorLowerEd | 0.0000000000 |  0.05339135 |\n",
       "| DAYS_ID_PUBLISH | 0.0000000000 |  0.05145717 |\n",
       "| REG_CITY_NOT_WORK_CITY | 0.0000000000 |  0.05099446 |\n",
       "| DAY_EMPLOYED_ANOM | 0.0000000000 | -0.04598708 |\n",
       "| FLAG_EMP_PHONE | 0.0000000000 |  0.04598222 |\n",
       "| REG_CITY_NOT_LIVE_CITY | 0.0000000000 |  0.04439537 |\n",
       "| FLAG_DOCUMENT_3 | 0.0000000000 |  0.04434635 |\n",
       "| DAYS_REGISTRATION | 0.0000000000 |  0.04197486 |\n",
       "| REGION_POPULATION_RELATIVE | 0.0000000000 | -0.03722715 |\n",
       "| LIVE_CITY_NOT_WORK_CITY | 0.0000000000 |  0.03251834 |\n",
       "| isCashLoan | 0.0000000000 |  0.03089591 |\n",
       "| AMT_CREDIT | 0.0000000000 | -0.03036929 |\n",
       "| FLAG_DOCUMENT_6 | 0.0000000000 | -0.02860189 |\n",
       "| FLAG_WORK_PHONE | 0.0000000000 |  0.02852432 |\n",
       "| HOUR_APPR_PROCESS_START | 0.0000000000 | -0.02416583 |\n",
       "| FLAG_PHONE | 0.0000000000 | -0.02380627 |\n",
       "| CNT_CHILDREN | 0.0000000000 |  0.01918713 |\n",
       "| isMarried | 0.0000000000 | -0.01219204 |\n",
       "| FLAG_DOCUMENT_16 | 0.0000000000 | -0.01161467 |\n",
       "| FLAG_DOCUMENT_13 | 0.0000000000 | -0.01158322 |\n",
       "| DAYS_LAST_PHONE_CHANGE | 0.0003251916 |  0.05521848 |\n",
       "| AMT_ANNUITY | 0.0039022994 | -0.01281656 |\n",
       "| AMT_GOODS_PRICE | 0.0904032701 | -0.03964528 |\n",
       "\n"
      ],
      "text/plain": [
       "                            Percent_Nulls Correlation_with_Target\n",
       "TARGET                      0.0000000000   1.00000000            \n",
       "DAYS_BIRTH                  0.0000000000   0.07823931            \n",
       "YearsOld                    0.0000000000  -0.07823931            \n",
       "REGION_RATING_CLIENT_W_CITY 0.0000000000   0.06089267            \n",
       "REGION_RATING_CLIENT        0.0000000000   0.05889901            \n",
       "morethanSecondaryEd         0.0000000000  -0.05339135            \n",
       "SecondaryorLowerEd          0.0000000000   0.05339135            \n",
       "DAYS_ID_PUBLISH             0.0000000000   0.05145717            \n",
       "REG_CITY_NOT_WORK_CITY      0.0000000000   0.05099446            \n",
       "DAY_EMPLOYED_ANOM           0.0000000000  -0.04598708            \n",
       "FLAG_EMP_PHONE              0.0000000000   0.04598222            \n",
       "REG_CITY_NOT_LIVE_CITY      0.0000000000   0.04439537            \n",
       "FLAG_DOCUMENT_3             0.0000000000   0.04434635            \n",
       "DAYS_REGISTRATION           0.0000000000   0.04197486            \n",
       "REGION_POPULATION_RELATIVE  0.0000000000  -0.03722715            \n",
       "LIVE_CITY_NOT_WORK_CITY     0.0000000000   0.03251834            \n",
       "isCashLoan                  0.0000000000   0.03089591            \n",
       "AMT_CREDIT                  0.0000000000  -0.03036929            \n",
       "FLAG_DOCUMENT_6             0.0000000000  -0.02860189            \n",
       "FLAG_WORK_PHONE             0.0000000000   0.02852432            \n",
       "HOUR_APPR_PROCESS_START     0.0000000000  -0.02416583            \n",
       "FLAG_PHONE                  0.0000000000  -0.02380627            \n",
       "CNT_CHILDREN                0.0000000000   0.01918713            \n",
       "isMarried                   0.0000000000  -0.01219204            \n",
       "FLAG_DOCUMENT_16            0.0000000000  -0.01161467            \n",
       "FLAG_DOCUMENT_13            0.0000000000  -0.01158322            \n",
       "DAYS_LAST_PHONE_CHANGE      0.0003251916   0.05521848            \n",
       "AMT_ANNUITY                 0.0039022994  -0.01281656            \n",
       "AMT_GOODS_PRICE             0.0904032701  -0.03964528            "
      ]
     },
     "metadata": {},
     "output_type": "display_data"
    }
   ],
   "source": [
    "nullandcorrDF <- sapply(cleanedTrainData, function(column) {\n",
    "  if (is.numeric(column)) {\n",
    "    # Calculate percent of nulls\n",
    "    percent_nulls <- mean(is.na(column)) * 100\n",
    "\n",
    "    # Calculate correlation with target, excluding NAs\n",
    "    correlation <- cor(cleanedTrainData$TARGET, column, use = \"complete.obs\")\n",
    "\n",
    "    return(c(Percent_Nulls = percent_nulls, Correlation_with_Target = correlation))\n",
    "  } else {\n",
    "    return(c(Percent_Nulls = NA, Correlation_with_Target = NA))\n",
    "  }\n",
    "})\n",
    "\n",
    "# Transpose to make it easier to read, then convert to data frame\n",
    "nullandcorrDF <- as.data.frame(t(nullandcorrDF))\n",
    "\n",
    "# Order by absolute value of correlation and then by least nulls\n",
    "ordered_results <- nullandcorrDF %>%\n",
    "  filter(!is.na(Correlation_with_Target)) %>%\n",
    "  filter(Percent_Nulls <= 0.1, (Correlation_with_Target >= .01 | Correlation_with_Target <= -.01)) %>%\n",
    "  arrange(Percent_Nulls, desc(abs(Correlation_with_Target)))\n",
    "rownames<- rownames(ordered_results)\n",
    "ordered_results"
   ]
  },
  {
   "cell_type": "markdown",
   "metadata": {
    "id": "cAzTZoI_7sak"
   },
   "source": [
    "## Simple Linear Model"
   ]
  },
  {
   "cell_type": "markdown",
   "metadata": {
    "id": "XbJnGjuuOjlN"
   },
   "source": [
    "Next, we split our data into training and test groups."
   ]
  },
  {
   "cell_type": "code",
   "execution_count": null,
   "metadata": {
    "colab": {
     "base_uri": "https://localhost:8080/",
     "height": 1000
    },
    "id": "1MmZUDVL0-zc",
    "outputId": "d1a40b68-3f30-415d-cafd-c7fb33c10619",
    "vscode": {
     "languageId": "r"
    }
   },
   "outputs": [
    {
     "data": {
      "text/plain": [
       "     TARGET          DAYS_BIRTH        YearsOld     REGION_RATING_CLIENT_W_CITY\n",
       " Min.   :0.00000   Min.   :-25229   Min.   :20.52   Min.   :1.000              \n",
       " 1st Qu.:0.00000   1st Qu.:-19682   1st Qu.:34.01   1st Qu.:2.000              \n",
       " Median :0.00000   Median :-15750   Median :43.15   Median :2.000              \n",
       " Mean   :0.08073   Mean   :-16037   Mean   :43.94   Mean   :2.032              \n",
       " 3rd Qu.:0.00000   3rd Qu.:-12413   3rd Qu.:53.92   3rd Qu.:2.000              \n",
       " Max.   :1.00000   Max.   : -7489   Max.   :69.12   Max.   :3.000              \n",
       "                                                                               \n",
       " REGION_RATING_CLIENT morethanSecondaryEd SecondaryorLowerEd DAYS_ID_PUBLISH\n",
       " Min.   :1.000        Min.   :0.0000      Min.   :0.0000     Min.   :-7197  \n",
       " 1st Qu.:2.000        1st Qu.:0.0000      1st Qu.:0.0000     1st Qu.:-4299  \n",
       " Median :2.000        Median :0.0000      Median :1.0000     Median :-3254  \n",
       " Mean   :2.052        Mean   :0.2774      Mean   :0.7226     Mean   :-2994  \n",
       " 3rd Qu.:2.000        3rd Qu.:1.0000      3rd Qu.:1.0000     3rd Qu.:-1720  \n",
       " Max.   :3.000        Max.   :1.0000      Max.   :1.0000     Max.   :    0  \n",
       "                                                                            \n",
       " REG_CITY_NOT_WORK_CITY DAY_EMPLOYED_ANOM FLAG_EMP_PHONE  \n",
       " Min.   :0.0000         Min.   :0.0000    Min.   :0.0000  \n",
       " 1st Qu.:0.0000         1st Qu.:0.0000    1st Qu.:1.0000  \n",
       " Median :0.0000         Median :0.0000    Median :1.0000  \n",
       " Mean   :0.2305         Mean   :0.1801    Mean   :0.8199  \n",
       " 3rd Qu.:0.0000         3rd Qu.:0.0000    3rd Qu.:1.0000  \n",
       " Max.   :1.0000         Max.   :1.0000    Max.   :1.0000  \n",
       "                                                          \n",
       " REG_CITY_NOT_LIVE_CITY FLAG_DOCUMENT_3 DAYS_REGISTRATION\n",
       " Min.   :0.00000        Min.   :0.00    Min.   :-24672   \n",
       " 1st Qu.:0.00000        1st Qu.:0.00    1st Qu.: -7480   \n",
       " Median :0.00000        Median :1.00    Median : -4504   \n",
       " Mean   :0.07817        Mean   :0.71    Mean   : -4986   \n",
       " 3rd Qu.:0.00000        3rd Qu.:1.00    3rd Qu.: -2010   \n",
       " Max.   :1.00000        Max.   :1.00    Max.   :     0   \n",
       "                                                         \n",
       " REGION_POPULATION_RELATIVE LIVE_CITY_NOT_WORK_CITY   isCashLoan    \n",
       " Min.   :0.00029            Min.   :0.0000          Min.   :0.0000  \n",
       " 1st Qu.:0.01001            1st Qu.:0.0000          1st Qu.:1.0000  \n",
       " Median :0.01885            Median :0.0000          Median :1.0000  \n",
       " Mean   :0.02087            Mean   :0.1796          Mean   :0.9048  \n",
       " 3rd Qu.:0.02866            3rd Qu.:0.0000          3rd Qu.:1.0000  \n",
       " Max.   :0.07251            Max.   :1.0000          Max.   :1.0000  \n",
       "                                                                    \n",
       "   AMT_CREDIT      FLAG_DOCUMENT_6   FLAG_WORK_PHONE  HOUR_APPR_PROCESS_START\n",
       " Min.   :  45000   Min.   :0.00000   Min.   :0.0000   Min.   : 0.00          \n",
       " 1st Qu.: 270000   1st Qu.:0.00000   1st Qu.:0.0000   1st Qu.:10.00          \n",
       " Median : 513531   Median :0.00000   Median :0.0000   Median :12.00          \n",
       " Mean   : 599026   Mean   :0.08806   Mean   :0.1994   Mean   :12.06          \n",
       " 3rd Qu.: 808650   3rd Qu.:0.00000   3rd Qu.:0.0000   3rd Qu.:14.00          \n",
       " Max.   :4050000   Max.   :1.00000   Max.   :1.0000   Max.   :23.00          \n",
       "                                                                             \n",
       "   FLAG_PHONE      CNT_CHILDREN       isMarried      FLAG_DOCUMENT_16  \n",
       " Min.   :0.0000   Min.   : 0.0000   Min.   :0.0000   Min.   :0.000000  \n",
       " 1st Qu.:0.0000   1st Qu.: 0.0000   1st Qu.:0.0000   1st Qu.:0.000000  \n",
       " Median :0.0000   Median : 0.0000   Median :1.0000   Median :0.000000  \n",
       " Mean   :0.2811   Mean   : 0.4171   Mean   :0.7356   Mean   :0.009928  \n",
       " 3rd Qu.:1.0000   3rd Qu.: 1.0000   3rd Qu.:1.0000   3rd Qu.:0.000000  \n",
       " Max.   :1.0000   Max.   :19.0000   Max.   :1.0000   Max.   :1.000000  \n",
       "                                                                       \n",
       " FLAG_DOCUMENT_13   DAYS_LAST_PHONE_CHANGE  AMT_ANNUITY     AMT_GOODS_PRICE  \n",
       " Min.   :0.000000   Min.   :-4292.0        Min.   :  1616   Min.   :  40500  \n",
       " 1st Qu.:0.000000   1st Qu.:-1570.0        1st Qu.: 16524   1st Qu.: 238500  \n",
       " Median :0.000000   Median : -757.0        Median : 24903   Median : 450000  \n",
       " Mean   :0.003525   Mean   : -962.9        Mean   : 27109   Mean   : 538396  \n",
       " 3rd Qu.:0.000000   3rd Qu.: -274.0        3rd Qu.: 34596   3rd Qu.: 679500  \n",
       " Max.   :1.000000   Max.   :    0.0        Max.   :258026   Max.   :4050000  \n",
       "                    NA's   :1              NA's   :12       NA's   :278      \n",
       "             age_group    \n",
       " 1                :49044  \n",
       " 2                :82770  \n",
       " 3                :75458  \n",
       " 4                :67945  \n",
       " age_group_missing:32294  \n",
       "                          \n",
       "                          "
      ]
     },
     "metadata": {},
     "output_type": "display_data"
    }
   ],
   "source": [
    "#creating top 10 and bottom 10 correlated variable dataset\n",
    "top20train <- cleanedTrainData[c(rownames, 'age_group')]\n",
    "top20test <- cleanedTestData[c(rownames[-1], 'age_group')]\n",
    "summary(top20train)"
   ]
  },
  {
   "cell_type": "markdown",
   "metadata": {
    "id": "Z0O2HU4yOoo0"
   },
   "source": [
    "To prepare the data, we first omit any nulls. As our variables were chosen not to have any nulls or, at least, a small percentage of nulls, we should not have too many rows removed on this step.\n",
    "\n",
    "We then one-hot encode our categorical variables, which in this case is just the age_group. We then rename these columns to be more intuitive.\n",
    "\n",
    "Next, we encode the target variable to be a \"Y\" or \"N\" value in order to make performance metrics such as confusion matrices easier to read in the future. After which, we factor the target variable to make it compatible with our SVM model.\n",
    "\n",
    "Finally, we scale our factors to ensure that the magnitude in our variables does not influence their significance to the model. After all of this is complete, we then divide our data into training and test sets."
   ]
  },
  {
   "cell_type": "code",
   "execution_count": null,
   "metadata": {
    "colab": {
     "base_uri": "https://localhost:8080/"
    },
    "id": "eaXqGIGfXZAK",
    "outputId": "154950a3-4293-4a09-e4d2-cfc03ae47a66",
    "vscode": {
     "languageId": "r"
    }
   },
   "outputs": [
    {
     "name": "stdout",
     "output_type": "stream",
     "text": [
      " [1] \"DAYS_BIRTH\"                  \"YearsOld\"                   \n",
      " [3] \"REGION_RATING_CLIENT_W_CITY\" \"REGION_RATING_CLIENT\"       \n",
      " [5] \"morethanSecondaryEd\"         \"SecondaryorLowerEd\"         \n",
      " [7] \"DAYS_ID_PUBLISH\"             \"REG_CITY_NOT_WORK_CITY\"     \n",
      " [9] \"DAY_EMPLOYED_ANOM\"           \"FLAG_EMP_PHONE\"             \n",
      "[11] \"REG_CITY_NOT_LIVE_CITY\"      \"FLAG_DOCUMENT_3\"            \n",
      "[13] \"DAYS_REGISTRATION\"           \"REGION_POPULATION_RELATIVE\" \n",
      "[15] \"LIVE_CITY_NOT_WORK_CITY\"     \"isCashLoan\"                 \n",
      "[17] \"AMT_CREDIT\"                  \"FLAG_DOCUMENT_6\"            \n",
      "[19] \"FLAG_WORK_PHONE\"             \"HOUR_APPR_PROCESS_START\"    \n",
      "[21] \"FLAG_PHONE\"                  \"CNT_CHILDREN\"               \n",
      "[23] \"isMarried\"                   \"FLAG_DOCUMENT_16\"           \n",
      "[25] \"FLAG_DOCUMENT_13\"            \"DAYS_LAST_PHONE_CHANGE\"     \n",
      "[27] \"AMT_ANNUITY\"                 \"AMT_GOODS_PRICE\"            \n",
      "[29] \"age_group_20_30\"             \"age_group_30_40\"            \n",
      "[31] \"age_group_40_50\"             \"age_group_50_60\"            \n",
      "[33] \"age_group.age_group_missing\"\n",
      " [1] \"TARGET\"                      \"DAYS_BIRTH\"                 \n",
      " [3] \"YearsOld\"                    \"REGION_RATING_CLIENT_W_CITY\"\n",
      " [5] \"REGION_RATING_CLIENT\"        \"morethanSecondaryEd\"        \n",
      " [7] \"SecondaryorLowerEd\"          \"DAYS_ID_PUBLISH\"            \n",
      " [9] \"REG_CITY_NOT_WORK_CITY\"      \"DAY_EMPLOYED_ANOM\"          \n",
      "[11] \"FLAG_EMP_PHONE\"              \"REG_CITY_NOT_LIVE_CITY\"     \n",
      "[13] \"FLAG_DOCUMENT_3\"             \"DAYS_REGISTRATION\"          \n",
      "[15] \"REGION_POPULATION_RELATIVE\"  \"LIVE_CITY_NOT_WORK_CITY\"    \n",
      "[17] \"isCashLoan\"                  \"AMT_CREDIT\"                 \n",
      "[19] \"FLAG_DOCUMENT_6\"             \"FLAG_WORK_PHONE\"            \n",
      "[21] \"HOUR_APPR_PROCESS_START\"     \"FLAG_PHONE\"                 \n",
      "[23] \"CNT_CHILDREN\"                \"isMarried\"                  \n",
      "[25] \"FLAG_DOCUMENT_16\"            \"FLAG_DOCUMENT_13\"           \n",
      "[27] \"DAYS_LAST_PHONE_CHANGE\"      \"AMT_ANNUITY\"                \n",
      "[29] \"AMT_GOODS_PRICE\"             \"age_group_20_30\"            \n",
      "[31] \"age_group_30_40\"             \"age_group_40_50\"            \n",
      "[33] \"age_group_50_60\"             \"age_group.age_group_missing\"\n"
     ]
    }
   ],
   "source": [
    "#prepare data for SVM\n",
    "SVMPrepare <- function(data){\n",
    "  preProc <- preProcess(data, method = \"medianImpute\")\n",
    "  data <- predict(preProc, data)\n",
    "  # Define the one-hot encoding model\n",
    "  dummies_model <- dummyVars(~ age_group, data = data)\n",
    "\n",
    "\n",
    "  # Apply the model to create one-hot encoded variables\n",
    "  data_one_hot <- predict(dummies_model, newdata = data)\n",
    "  data_one_hot <- cbind(data, data_one_hot)\n",
    "  #drop original age group column\n",
    "  data_one_hot <- subset(data_one_hot, select = -age_group)\n",
    "  #rename columns\n",
    "  return (data_one_hot)}\n",
    "  #apply function to training and test for similar datasets\n",
    "  SVMTrainData <- SVMPrepare(top20train)\n",
    "  SVMTestData <- SVMPrepare(top20test)\n",
    "  #rename columns for easier calls\n",
    "  SVMTrainData <- SVMTrainData %>%\n",
    "    rename( 'age_group_20_30' = 'age_group.1' ,  'age_group_30_40' = 'age_group.2'\n",
    "  , 'age_group_40_50' = 'age_group.3' ,  'age_group_50_60' = 'age_group.4')\n",
    "  SVMTestData <- SVMTestData %>%\n",
    "  rename( 'age_group_20_30' = 'age_group.1' ,  'age_group_30_40' = 'age_group.2'\n",
    "  , 'age_group_40_50' = 'age_group.3' ,  'age_group_50_60' = 'age_group.4')\n",
    "print(names(SVMTestData))\n",
    "print(names(SVMTrainData))\n",
    "\n"
   ]
  },
  {
   "cell_type": "code",
   "execution_count": null,
   "metadata": {
    "colab": {
     "base_uri": "https://localhost:8080/"
    },
    "id": "-Nu1X_zaGm_a",
    "outputId": "09966b88-e2bc-4996-8dda-b1571ce7befa",
    "vscode": {
     "languageId": "r"
    }
   },
   "outputs": [
    {
     "name": "stdout",
     "output_type": "stream",
     "text": [
      " [1] \"TARGET\"                      \"DAYS_BIRTH\"                 \n",
      " [3] \"YearsOld\"                    \"REGION_RATING_CLIENT_W_CITY\"\n",
      " [5] \"REGION_RATING_CLIENT\"        \"morethanSecondaryEd\"        \n",
      " [7] \"SecondaryorLowerEd\"          \"DAYS_ID_PUBLISH\"            \n",
      " [9] \"REG_CITY_NOT_WORK_CITY\"      \"DAY_EMPLOYED_ANOM\"          \n",
      "[11] \"FLAG_EMP_PHONE\"              \"REG_CITY_NOT_LIVE_CITY\"     \n",
      "[13] \"FLAG_DOCUMENT_3\"             \"DAYS_REGISTRATION\"          \n",
      "[15] \"REGION_POPULATION_RELATIVE\"  \"LIVE_CITY_NOT_WORK_CITY\"    \n",
      "[17] \"isCashLoan\"                  \"AMT_CREDIT\"                 \n",
      "[19] \"FLAG_DOCUMENT_6\"             \"FLAG_WORK_PHONE\"            \n",
      "[21] \"HOUR_APPR_PROCESS_START\"     \"FLAG_PHONE\"                 \n",
      "[23] \"CNT_CHILDREN\"                \"isMarried\"                  \n",
      "[25] \"FLAG_DOCUMENT_16\"            \"FLAG_DOCUMENT_13\"           \n",
      "[27] \"DAYS_LAST_PHONE_CHANGE\"      \"AMT_ANNUITY\"                \n",
      "[29] \"AMT_GOODS_PRICE\"             \"age_group_20_30\"            \n",
      "[31] \"age_group_30_40\"             \"age_group_40_50\"            \n",
      "[33] \"age_group_50_60\"             \"age_group.age_group_missing\"\n"
     ]
    }
   ],
   "source": [
    "#continue with data preparation by scaling relevant variables and factoring target variables\n",
    "SVMPrepareCont <- function(data, test) {\n",
    "  print(names(data))\n",
    "  if (test == \"N\"){\n",
    "  data$TARGET[ data$TARGET == 1] <- \"Y\"\n",
    "  data$TARGET[ data$TARGET == 0] <- \"N\"\n",
    "  data$TARGET <- as.factor(data$TARGET)}\n",
    "  data <- data %>%\n",
    "    mutate_at(vars(-TARGET, -age_group_20_30,  -age_group_30_40,  -age_group_40_50, -age_group_50_60, -age_group.age_group_missing,\n",
    "  -isCashLoan, -SecondaryorLowerEd, -FLAG_DOCUMENT_6, -FLAG_DOCUMENT_13, -FLAG_DOCUMENT_16, -FLAG_DOCUMENT_3, -FLAG_EMP_PHONE, -isMarried, -LIVE_CITY_NOT_WORK_CITY, -REG_CITY_NOT_LIVE_CITY, -morethanSecondaryEd), scale)\n",
    "  return (data)\n",
    "}\n",
    "\n",
    "  SVMTrainData <- SVMPrepareCont(SVMTrainData ,\"N\")\n",
    "  SVMTestData <- SVMTestData %>%\n",
    "    mutate_at(vars( -age_group_20_30,  -age_group_30_40,  -age_group_40_50, -age_group_50_60, -age_group.age_group_missing,\n",
    "  -isCashLoan, -SecondaryorLowerEd, -FLAG_DOCUMENT_6, -FLAG_DOCUMENT_13, -FLAG_DOCUMENT_16, -FLAG_DOCUMENT_3, -FLAG_EMP_PHONE, -isMarried, -LIVE_CITY_NOT_WORK_CITY, -REG_CITY_NOT_LIVE_CITY, -morethanSecondaryEd), scale)\n",
    "\n",
    "\n",
    "  # Create train/test split on train data to evaluate model performance\n",
    "  train_indices <- createDataPartition(SVMTrainData$TARGET, p = 0.8, list = FALSE)\n",
    "\n",
    "  # Create train and test datasets\n",
    "  SVMtrain_data <- SVMTrainData[train_indices, ]\n",
    "  SVMtest_data <- SVMTrainData[-train_indices, ]"
   ]
  },
  {
   "cell_type": "markdown",
   "metadata": {
    "id": "AVc7C-a_QLy-"
   },
   "source": [
    "### Simple 3-Fold Cross Validation with Linear SVM Model"
   ]
  },
  {
   "cell_type": "markdown",
   "metadata": {
    "id": "8qAK7hsWPpTt"
   },
   "source": [
    "To begin our analysis, we first run a 5-fold-cross-validated SVM model on our target variable and predictors. We use a probability threshold of .5 to make our predictions, as this is usually the default value. At this stage, we are simply seeing how a basic model performs and then making further adjustments after we gather our findings."
   ]
  },
  {
   "cell_type": "code",
   "execution_count": null,
   "metadata": {
    "id": "O7mDuu5Bp5sT",
    "vscode": {
     "languageId": "r"
    }
   },
   "outputs": [],
   "source": [
    "#randomly sample 5000 observations to allow for optimal performance\n",
    "SVMtrain_data <- SVMtrain_data[sample(nrow(SVMtrain_data), 5000), ]"
   ]
  },
  {
   "cell_type": "code",
   "execution_count": null,
   "metadata": {
    "colab": {
     "base_uri": "https://localhost:8080/"
    },
    "id": "ZA_TUxhzO0jW",
    "outputId": "f535e278-f711-41a8-c337-59bd87be8552",
    "vscode": {
     "languageId": "r"
    }
   },
   "outputs": [
    {
     "name": "stderr",
     "output_type": "stream",
     "text": [
      "Warning message in train.default(x, y, weights = w, ...):\n",
      "“The metric \"Accuracy\" was not in the result set. ROC will be used instead.”\n"
     ]
    },
    {
     "name": "stdout",
     "output_type": "stream",
     "text": [
      "maximum number of iterations reached 0.0019477 0.001926413maximum number of iterations reached 0.003798463 0.00370348maximum number of iterations reached 0.001442454 0.001431858maximum number of iterations reached 0.006856556 0.006563036maximum number of iterations reached 0.004394392 0.004253748maximum number of iterations reached 0.002436295 0.002391624"
     ]
    },
    {
     "name": "stderr",
     "output_type": "stream",
     "text": [
      "Warning message in confusionMatrix.default(factor(binary_predictions), factor(SVMtest_data$TARGET), :\n",
      "“Levels are not in the same order for reference and data. Refactoring data to match.”\n"
     ]
    },
    {
     "name": "stdout",
     "output_type": "stream",
     "text": [
      "Confusion Matrix and Statistics\n",
      "\n",
      "          Reference\n",
      "Prediction     N     Y\n",
      "         N 56537  4965\n",
      "         Y     0     0\n",
      "                                          \n",
      "               Accuracy : 0.9193          \n",
      "                 95% CI : (0.9171, 0.9214)\n",
      "    No Information Rate : 0.9193          \n",
      "    P-Value [Acc > NIR] : 0.5038          \n",
      "                                          \n",
      "                  Kappa : 0               \n",
      "                                          \n",
      " Mcnemar's Test P-Value : <2e-16          \n",
      "                                          \n",
      "            Sensitivity : 0.00000         \n",
      "            Specificity : 1.00000         \n",
      "         Pos Pred Value :     NaN         \n",
      "         Neg Pred Value : 0.91927         \n",
      "             Prevalence : 0.08073         \n",
      "         Detection Rate : 0.00000         \n",
      "   Detection Prevalence : 0.00000         \n",
      "      Balanced Accuracy : 0.50000         \n",
      "                                          \n",
      "       'Positive' Class : Y               \n",
      "                                          \n",
      "\n",
      "Percision:  NaN\n",
      "Recall:  0\n",
      "F1 Score:  NaN"
     ]
    }
   ],
   "source": [
    "\n",
    "train_control <- trainControl(method = \"cv\", number = 5, classProbs = TRUE, summaryFunction = twoClassSummary)\n",
    "\n",
    "#fit SVM Model with cross validation\n",
    "svm_model1 <- train(TARGET ~ .,\n",
    "                      data = SVMtrain_data,\n",
    "                      method = \"svmLinear\",\n",
    "                      trControl = train_control,\n",
    "                      probability = TRUE)\n",
    "#predict using our first simple svmLinear model using the test data\n",
    "predictions <- predict(svm_model1, newdata = SVMtest_data, type = \"prob\")$Y\n",
    "#keep the threshold at 0.5 for now so we can see how the model behaves with a \"default\" value\n",
    "binary_predictions <- ifelse(predictions > 0.5, \"Y\", \"N\")\n",
    "\n",
    "#run and output confusion matrix\n",
    "confusion <- confusionMatrix(factor(binary_predictions), factor(SVMtest_data$TARGET), positive = \"Y\")\n",
    "print(confusion)\n",
    "\n",
    "# get percision from our confusion matrix\n",
    "precision <- confusion$byClass['Pos Pred Value']\n",
    "cat('\\nPercision: ', precision)\n",
    "\n",
    "# recall\n",
    "recall <- confusion$byClass['Sensitivity']\n",
    "cat('\\nRecall: ', recall)\n",
    "\n",
    "# calculating f1 score from percision and recall\n",
    "f1_score <- 2 * (precision * recall) / (precision + recall)\n",
    "cat(\"\\nF1 Score: \", round(f1_score,4))\n",
    "#beep(sound = 1)"
   ]
  },
  {
   "cell_type": "markdown",
   "metadata": {
    "id": "M2A8Sspms3Hm"
   },
   "source": [
    "### SMOTE Linear SVM Model"
   ]
  },
  {
   "cell_type": "markdown",
   "metadata": {
    "id": "uecVzhiKb5jU"
   },
   "source": [
    "While our SVM Model seemed to perfrom well for accuracy, this is primarily due to class imbalance, which can be observed through our non-existant F1 score. Currently, the model just predicts that all observations will be Non-Defaults. However, this is not a good model to use as it does not achieve the goal of identifying potential defaults at all. To rectify this, we will use smote to balance the classes and then try rerunning the linear model."
   ]
  },
  {
   "cell_type": "code",
   "execution_count": null,
   "metadata": {
    "colab": {
     "base_uri": "https://localhost:8080/"
    },
    "id": "tfUXfERBSmi-",
    "outputId": "9239576f-5c2f-4430-a978-348747517738",
    "vscode": {
     "languageId": "r"
    }
   },
   "outputs": [
    {
     "name": "stderr",
     "output_type": "stream",
     "text": [
      "Installing package into ‘/usr/local/lib/R/site-library’\n",
      "(as ‘lib’ is unspecified)\n",
      "\n",
      "also installing the dependencies ‘BBmisc’, ‘checkmate’, ‘parallelMap’\n",
      "\n",
      "\n"
     ]
    }
   ],
   "source": [
    "#Load performance estimation for smote dataset creation\n",
    "install.packages(\"performanceEstimation\", repos = \"https://cloud.r-project.org\")\n",
    "library(performanceEstimation)"
   ]
  },
  {
   "cell_type": "code",
   "execution_count": null,
   "metadata": {
    "colab": {
     "base_uri": "https://localhost:8080/"
    },
    "id": "OkPYXfv0cZOc",
    "outputId": "8014a52e-f2d8-4fe5-9ece-9e9356e383f6",
    "vscode": {
     "languageId": "r"
    }
   },
   "outputs": [
    {
     "name": "stdout",
     "output_type": "stream",
     "text": [
      "[1] \"Before Smote:\\n\"\n",
      "\n",
      "   N    Y \n",
      "4599  401 \n",
      "[1] \"After Smote:\\n\"\n",
      "\n",
      "   N    Y \n",
      "4010 4411 \n"
     ]
    }
   ],
   "source": [
    "set.seed(123)\n",
    "\n",
    "\n",
    "print('Before Smote:\\n')\n",
    "print(table(SVMtrain_data$TARGET))\n",
    "\n",
    "#ensure datatypes are correct for SMOTE\n",
    "SVMtrain_data <- data.frame(lapply(SVMtrain_data, function(x) {\n",
    "  if (is.character(x)) {\n",
    "    print(x)\n",
    "  } else {\n",
    "    x\n",
    "  }\n",
    "}))\n",
    "\n",
    "SVMtest_data <- data.frame(lapply(SVMtest_data, function(x) {\n",
    "  if (is.character(x)) {\n",
    "    print(x)\n",
    "  } else {\n",
    "    x\n",
    "  }\n",
    "}))\n",
    "#created SMOTE'd Dataset\n",
    "smoteSVM_Train <- smote(TARGET ~ ., data = SVMtrain_data, perc.over = 10, perc.under = 1)\n",
    "\n",
    "#see target variable distribution after smote\n",
    "print('After Smote:\\n')\n",
    "print(table(smoteSVM_Train$TARGET))"
   ]
  },
  {
   "cell_type": "markdown",
   "metadata": {
    "id": "gLxsVOE5e5ao"
   },
   "source": [
    "Now we have an artifically balanced dataset, we will try rerunning the model."
   ]
  },
  {
   "cell_type": "code",
   "execution_count": null,
   "metadata": {
    "colab": {
     "base_uri": "https://localhost:8080/"
    },
    "id": "IuFZSKBee-xq",
    "outputId": "029b2b9e-2d59-445e-9301-9a6120fe01dc",
    "vscode": {
     "languageId": "r"
    }
   },
   "outputs": [
    {
     "name": "stderr",
     "output_type": "stream",
     "text": [
      "Warning message in train.default(x, y, weights = w, ...):\n",
      "“The metric \"Accuracy\" was not in the result set. ROC will be used instead.”\n"
     ]
    },
    {
     "name": "stdout",
     "output_type": "stream",
     "text": [
      "Confusion Matrix and Statistics\n",
      "\n",
      "          Reference\n",
      "Prediction     N     Y\n",
      "         N 16525   736\n",
      "         Y 40012  4229\n",
      "                                          \n",
      "               Accuracy : 0.3375          \n",
      "                 95% CI : (0.3337, 0.3412)\n",
      "    No Information Rate : 0.9193          \n",
      "    P-Value [Acc > NIR] : 1               \n",
      "                                          \n",
      "                  Kappa : 0.0313          \n",
      "                                          \n",
      " Mcnemar's Test P-Value : <2e-16          \n",
      "                                          \n",
      "            Sensitivity : 0.85176         \n",
      "            Specificity : 0.29229         \n",
      "         Pos Pred Value : 0.09559         \n",
      "         Neg Pred Value : 0.95736         \n",
      "             Prevalence : 0.08073         \n",
      "         Detection Rate : 0.06876         \n",
      "   Detection Prevalence : 0.71934         \n",
      "      Balanced Accuracy : 0.57202         \n",
      "                                          \n",
      "       'Positive' Class : Y               \n",
      "                                          \n",
      "\n",
      "Percision:  0.09559006\n",
      "Recall:  0.8517623\n",
      "F1 Score:  0.1719"
     ]
    }
   ],
   "source": [
    "set.seed(123)\n",
    "#fit SVM Model with cross validation\n",
    "smote_model <- train(TARGET ~ .,\n",
    "                      data = smoteSVM_Train,\n",
    "                      method = \"svmLinear\",\n",
    "                      trControl = train_control,\n",
    "                      probability = TRUE)\n",
    "#predict using our first simple svmLinear model using the test data\n",
    "predictions <- predict(smote_model, newdata = SVMtest_data, type = \"prob\")$Y\n",
    "#drop down threshold to 0.35 to ensure more fraud instances are discovered\n",
    "binary_predictions <- ifelse(predictions > 0.35, \"Y\", \"N\")\n",
    "\n",
    "#run and output confusion matrix\n",
    "confusion <- confusionMatrix(factor(binary_predictions), factor(SVMtest_data$TARGET), positive = \"Y\")\n",
    "print(confusion)\n",
    "\n",
    "# get percision from our confusion matrix\n",
    "precision <- confusion$byClass['Pos Pred Value']\n",
    "cat('\\nPercision: ', precision)\n",
    "\n",
    "# recall\n",
    "recall <- confusion$byClass['Sensitivity']\n",
    "cat('\\nRecall: ', recall)\n",
    "\n",
    "# calculating f1 score from percision and recall\n",
    "f1_score <- 2 * (precision * recall) / (precision + recall)\n",
    "cat(\"\\nF1 Score: \", round(f1_score,4))\n",
    "\n"
   ]
  },
  {
   "cell_type": "markdown",
   "metadata": {
    "id": "1UNSMHF-foaC"
   },
   "source": [
    "The smote model showed improvement in detecting loan defaults and now has values for our performance metrics. Notably, the recall of 0.8517 indicates that our model correctly identifies 41% of the actual positive cases. However, due to a low Percision metric (higher rate of false positives) we still end up with a low F1 score. This is due to many False Positives, which in our scenario, could mean that a customer gets denied a loan when they may deserve one. As one of the company's main selling points is accessibility to loans - this model may not suit our needs. Perhaps the low F1 score could be caused by non-linear relationships between the variables - which the SVMLinear model likely struggles to fit. In order to test this, we will rerun our smote dataset through a SVMRadial Dataset to try to capture the relationships between the variables more effectively. We also weight defaulted loans 10x heavier than non-defaults, as this is our primary interest when investigating the dataset."
   ]
  },
  {
   "cell_type": "code",
   "execution_count": null,
   "metadata": {
    "colab": {
     "base_uri": "https://localhost:8080/"
    },
    "id": "OGKs0EsefoKD",
    "outputId": "11a50fc4-29e7-4b67-9fca-8b53b11ffb10",
    "vscode": {
     "languageId": "r"
    }
   },
   "outputs": [
    {
     "name": "stderr",
     "output_type": "stream",
     "text": [
      "Warning message in train.default(x, y, weights = w, ...):\n",
      "“The metric \"Accuracy\" was not in the result set. ROC will be used instead.”\n"
     ]
    },
    {
     "name": "stdout",
     "output_type": "stream",
     "text": [
      "line search fails -2.653375 0.5670148 1.012441e-05 -5.0557e-06 -4.807229e-08 2.711599e-08 -6.237941e-13"
     ]
    },
    {
     "name": "stderr",
     "output_type": "stream",
     "text": [
      "Warning message in method$predict(modelFit = modelFit, newdata = newdata, submodels = param):\n",
      "“kernlab class prediction calculations failed; returning NAs”\n",
      "Warning message in method$prob(modelFit = modelFit, newdata = newdata, submodels = param):\n",
      "“kernlab class probability calculations failed; returning NAs”\n",
      "Warning message in data.frame(..., check.names = FALSE):\n",
      "“row names were found from a short variable and have been discarded”\n",
      "Warning message in nominalTrainWorkflow(x = x, y = y, wts = weights, info = trainInfo, :\n",
      "“There were missing values in resampled performance measures.”\n"
     ]
    }
   ],
   "source": [
    "set.seed(123)\n",
    "Svm_smote_Radial <- train(TARGET ~ .,\n",
    "                   data = smoteSVM_Train,  #still using smote training dataset\n",
    "                   method = \"svmRadial\",  #use radial for non-linear relationships\n",
    "                   trControl = train_control, #still using 3 fold cross validation\n",
    "                   tuneLength = 5,\n",
    "                   preProcess = c(\"center\", \"scale\"),\n",
    "                   weights = ifelse(smoteSVM_Train$TARGET == \"N\", 1, 10))\n"
   ]
  },
  {
   "cell_type": "code",
   "execution_count": null,
   "metadata": {
    "id": "oraK0IA2X3tK",
    "vscode": {
     "languageId": "r"
    }
   },
   "outputs": [],
   "source": [
    "#install.packages('pROC')\n",
    "library(pROC)"
   ]
  },
  {
   "cell_type": "code",
   "execution_count": null,
   "metadata": {
    "colab": {
     "base_uri": "https://localhost:8080/",
     "height": 1000
    },
    "id": "iibg9koZmhtw",
    "outputId": "e3499e44-bd1a-4ffe-a873-0eaf2a7666ad",
    "vscode": {
     "languageId": "r"
    }
   },
   "outputs": [
    {
     "name": "stderr",
     "output_type": "stream",
     "text": [
      "Warning message in confusionMatrix.default(factor(predicted_classes), factor(SVMtest_data$TARGET), :\n",
      "“Levels are not in the same order for reference and data. Refactoring data to match.”\n",
      "Warning message in confusionMatrix.default(factor(predicted_classes), factor(SVMtest_data$TARGET), :\n",
      "“Levels are not in the same order for reference and data. Refactoring data to match.”\n"
     ]
    },
    {
     "name": "stdout",
     "output_type": "stream",
     "text": [
      "[1] 0.11\n"
     ]
    },
    {
     "name": "stderr",
     "output_type": "stream",
     "text": [
      "Setting levels: control = N, case = Y\n",
      "\n",
      "Setting direction: controls < cases\n",
      "\n"
     ]
    },
    {
     "name": "stdout",
     "output_type": "stream",
     "text": [
      "Confusion Matrix and Statistics\n",
      "\n",
      "          Reference\n",
      "Prediction     N     Y\n",
      "         N 36984  2614\n",
      "         Y 19553  2351\n",
      "                                          \n",
      "               Accuracy : 0.6396          \n",
      "                 95% CI : (0.6358, 0.6434)\n",
      "    No Information Rate : 0.9193          \n",
      "    P-Value [Acc > NIR] : 1               \n",
      "                                          \n",
      "                  Kappa : 0.0499          \n",
      "                                          \n",
      " Mcnemar's Test P-Value : <2e-16          \n",
      "                                          \n",
      "            Sensitivity : 0.47351         \n",
      "            Specificity : 0.65416         \n",
      "         Pos Pred Value : 0.10733         \n",
      "         Neg Pred Value : 0.93399         \n",
      "             Prevalence : 0.08073         \n",
      "         Detection Rate : 0.03823         \n",
      "   Detection Prevalence : 0.35615         \n",
      "      Balanced Accuracy : 0.56384         \n",
      "                                          \n",
      "       'Positive' Class : Y               \n",
      "                                          \n",
      "\n",
      "Percision:  0.107332\n",
      "Recall:  0.4735146\n",
      "F1 Score:  0.175"
     ]
    },
    {
     "data": {
      "image/png": "[encoded data removed]",
      "text/plain": [
       "plot without title"
      ]
     },
     "metadata": {
      "image/png": {
       "height": 420,
       "width": 420
      }
     },
     "output_type": "display_data"
    }
   ],
   "source": [
    "set.seed(123)\n",
    "predictions <- predict(Svm_smote_Radial, newdata = SVMtest_data, type = \"prob\")$Y\n",
    "# Create a list of thresholds to test\n",
    "thresholds <- seq(0, 1, by = 0.01)\n",
    "#Optimal F1 Score Threshold Determination\n",
    "calculate_f1 <- function(threshold) {\n",
    "  predicted_classes <- ifelse(predictions >= threshold, \"Y\", \"N\")\n",
    "  confusion <- confusionMatrix(factor(predicted_classes), factor(SVMtest_data$TARGET), positive = \"Y\")\n",
    "  # get percision from our confusion matrix\n",
    "  precision <- confusion$byClass['Pos Pred Value']\n",
    "  # recall\n",
    "  recall <- confusion$byClass['Sensitivity']\n",
    "  # calculating f1 score from percision and recall\n",
    "  f1_score <- 2 * (precision * recall) / (precision + recall)\n",
    "  return(f1_score)\n",
    "}\n",
    "\n",
    "# Calculate F1-scores for all thresholds\n",
    "f1_scores <- sapply(thresholds, calculate_f1)\n",
    "\n",
    "# Get max f1_score\n",
    "optimal_threshold <- thresholds[which.max(f1_scores)]\n",
    "print(optimal_threshold)\n",
    "\n",
    "#use optimal f1_score for our predictions\n",
    "binary_predictions <- ifelse(predictions > optimal_threshold, \"Y\", \"N\")\n",
    "\n",
    "## Assuming you have the true labels and predicted probabilities:\n",
    "true_labels <- SVMtest_data$TARGET\n",
    "predicted_probs <- predictions\n",
    "\n",
    "# Create the ROC curve object\n",
    "roc_obj <- roc(true_labels, predictions)\n",
    "\n",
    "# Plot the precision-recall curve\n",
    "plot(roc_obj, print.auc = FALSE)\n",
    "\n",
    "#run and output confusion matrix\n",
    "confusion <- confusionMatrix(factor(binary_predictions), factor(SVMtest_data$TARGET), positive = \"Y\")\n",
    "print(confusion)\n",
    "\n",
    "# get percision from our confusion matrix\n",
    "precision <- confusion$byClass['Pos Pred Value']\n",
    "cat('\\nPercision: ', precision)\n",
    "\n",
    "# recall\n",
    "recall <- confusion$byClass['Sensitivity']\n",
    "cat('\\nRecall: ', recall)\n",
    "\n",
    "# calculating f1 score from percision and recall\n",
    "f1_score <- 2 * (precision * recall) / (precision + recall)\n",
    "cat(\"\\nF1 Score: \", round(f1_score,4))"
   ]
  },
  {
   "cell_type": "markdown",
   "metadata": {
    "id": "O_uFaTkGldgY"
   },
   "source": [
    "After running the model, we see a slight improvement in F1 Score and an increased recall and percision from our linear model. This improvement is a result of our careful model tuning, including the use of a non-linear SVM, a 10:1 weighting of \"Y\" to \"N\" observations, and the optimization of the classification threshold. Our accuracy also improved without classifying too many observations into the no-default category. Finally, we print the ROC curve to see the relationship between specificity (True Negative Rate) and sensitivity  (True Positive Rate). Ideally, the curve should hug the top left of the chart, indicating a both high true positive and negatives rates at different thresholds. While our ROC curve does not hug the top left, it does rise above the perfectly linear reference line for a random walk, meaning the model found some patterns in the data, even if they were just slightly above random."
   ]
  },
  {
   "cell_type": "markdown",
   "metadata": {
    "id": "cCrXJGNIr_2F"
   },
   "source": [
    "## Test Data"
   ]
  },
  {
   "cell_type": "markdown",
   "metadata": {
    "id": "g15IphEZsB-O"
   },
   "source": [
    "Now we will see how our best performing model, the SVMRadial Model with weighting and smote, performs on our test data."
   ]
  },
  {
   "cell_type": "code",
   "execution_count": null,
   "metadata": {
    "id": "aCCi2BuNDUYK",
    "vscode": {
     "languageId": "r"
    }
   },
   "outputs": [],
   "source": [
    "#ensure datatypes are correct\n",
    "SVMTestData <- data.frame(lapply(SVMTestData, function(x) {\n",
    "  if (is.character(x)) {\n",
    "    print(x)\n",
    "  } else {\n",
    "    x\n",
    "  }\n",
    "}))"
   ]
  },
  {
   "cell_type": "code",
   "execution_count": null,
   "metadata": {
    "id": "uKtY2jp1sIl0",
    "vscode": {
     "languageId": "r"
    }
   },
   "outputs": [],
   "source": [
    "#get predictions with kaggle\n",
    "predictions_final_SVM <- predict(Svm_smote_Radial, newdata = SVMTestData, type = \"prob\")$Y\n",
    "# Load sample submission file\n",
    "sample_submission <- read.csv(\"/content/sample_submission.csv\")\n",
    "\n",
    "# Add predictions to the sample submission\n",
    "sample_submission$TARGET <- predictions_final_SVM\n",
    "\n",
    "# Save the updated submission file\n",
    "write.csv(sample_submission, \"/content/sample_Submission_SVM.csv\", row.names = FALSE)\n",
    "\n"
   ]
  },
  {
   "cell_type": "markdown",
   "metadata": {
    "id": "JLp4ckCiqmvs"
   },
   "source": [
    "## SVM Conclusions"
   ]
  },
  {
   "cell_type": "markdown",
   "metadata": {
    "id": "BdbQuHPPqojx"
   },
   "source": [
    "Unfortuantely, it would seem that perhaps an SVM model is not best suited for modeling the data. While we were able to extract some patterns from the data with our final smote-using-weighted-Radial model, we were only able to achieve an F1 Score of 0.19, meaning that the model is struggling with distinguishing default observations from non-default observations.  Even so, a Kaggle score of 0.58 indicates that the model does perform better than what may be expected through random guessing."
   ]
  },
  {
   "cell_type": "markdown",
   "metadata": {
    "id": "MXk6rPnCgVyc"
   },
   "source": [
    "# Linear Regression\n"
   ]
  },
  {
   "cell_type": "code",
   "execution_count": null,
   "metadata": {
    "colab": {
     "base_uri": "https://localhost:8080/"
    },
    "id": "_76r0EijgeqV",
    "outputId": "71484569-04f5-471f-cc80-6c89247a970f",
    "vscode": {
     "languageId": "r"
    }
   },
   "outputs": [
    {
     "name": "stderr",
     "output_type": "stream",
     "text": [
      "Installing packages into ‘/usr/local/lib/R/site-library’\n",
      "(as ‘lib’ is unspecified)\n",
      "\n",
      "also installing the dependencies ‘XML’, ‘TH.data’, ‘rgl’, ‘rlist’, ‘gtools’, ‘libcoin’, ‘multcomp’, ‘igraph’, ‘doParallel’, ‘ConsRank’, ‘mvtnorm’, ‘modeltools’, ‘strucchange’, ‘coin’, ‘zoo’, ‘sandwich’, ‘plotrix’, ‘kknn’, ‘pls’, ‘mda’, ‘randomForest’, ‘adabag’, ‘party’, ‘Cubist’, ‘glmnet’, ‘xgboost’\n",
      "\n",
      "\n",
      "\n",
      "Attaching package: ‘matrixStats’\n",
      "\n",
      "\n",
      "The following object is masked from ‘package:dplyr’:\n",
      "\n",
      "    count\n",
      "\n",
      "\n"
     ]
    }
   ],
   "source": [
    "# Load necessary packages\n",
    "install.packages(c('rminer', 'rpart', 'matrixStats','ranger') )\n",
    "library(dplyr)\n",
    "library(ranger)\n",
    "library(rpart)\n",
    "library(caret)\n",
    "library(rminer)\n",
    "library(matrixStats)\n",
    "library(knitr)"
   ]
  },
  {
   "cell_type": "markdown",
   "metadata": {
    "id": "8wzEZJSflt8f"
   },
   "source": [
    "## Clean Train and Test Data for LR"
   ]
  },
  {
   "cell_type": "code",
   "execution_count": null,
   "metadata": {
    "colab": {
     "base_uri": "https://localhost:8080/"
    },
    "id": "eG6Gc6KilP_c",
    "outputId": "e63b3f29-6e33-4ddb-9c44-1341c8622259",
    "vscode": {
     "languageId": "r"
    }
   },
   "outputs": [
    {
     "name": "stdout",
     "output_type": "stream",
     "text": [
      "[1] 307511\n",
      "[1] 48744\n",
      "[1] 48744\n",
      " [1] \"NAME_CONTRACT_TYPE\"         \"CODE_GENDER\"               \n",
      " [3] \"FLAG_OWN_CAR\"               \"FLAG_OWN_REALTY\"           \n",
      " [5] \"NAME_TYPE_SUITE\"            \"NAME_INCOME_TYPE\"          \n",
      " [7] \"NAME_EDUCATION_TYPE\"        \"NAME_FAMILY_STATUS\"        \n",
      " [9] \"NAME_HOUSING_TYPE\"          \"OCCUPATION_TYPE\"           \n",
      "[11] \"WEEKDAY_APPR_PROCESS_START\" \"ORGANIZATION_TYPE\"         \n",
      "[13] \"FONDKAPREMONT_MODE\"         \"HOUSETYPE_MODE\"            \n",
      "[15] \"WALLSMATERIAL_MODE\"         \"EMERGENCYSTATE_MODE\"       \n"
     ]
    }
   ],
   "source": [
    "# Function to clean data - specific to linear regression\n",
    "set.seed(123)\n",
    "clean_data3 <- function(data) {\n",
    "  print(nrow(data))\n",
    "  # Get list of all factor columns\n",
    "  factor_cols <- names(data)[sapply(data, is.factor)]\n",
    "  # Replace the null values with a value of \"missing\"\n",
    "  data[factor_cols][is.na(data[factor_cols])] <- \"missing\"\n",
    "  data$isCashLoan <- ifelse(data$NAME_CONTRACT_TYPE %in% c(\"Cash loans\"), 1, 0)\n",
    "  # Convert married to new column that includes 1 if in married or civil marriage and 0 otherwise\n",
    "  data$isMarried <- ifelse(data$NAME_FAMILY_STATUS %in% c(\"Married\", \"Civil marriage\"), 1, 0)\n",
    "  # Creating variable for more than secondary education\n",
    "  data$morethanSecondaryEd <- ifelse(data$NAME_EDUCATION_TYPE %in% c(\"Higher education\", \"Incomplete higher\", \"Academic degree\"), 1, 0)\n",
    "  # Creating variable for secondary or lower education\n",
    "  data$SecondaryorLowerEd <- ifelse(data$NAME_EDUCATION_TYPE %in% c(\"Secondary / secondary special\", \"Lower secondary\"), 1, 0)\n",
    "  #making factor column for isCashLoan\n",
    "  # Create an anomalous group - where days employed exceeds 100 years\n",
    "  data$DAY_EMPLOYED_ANOM <- ifelse(data$DAYS_EMPLOYED >= 36500, 1, 0)\n",
    "  # Remove the anomalous groups from the data\n",
    "  data$DAYS_EMPLOYED[data$DAYS_EMPLOYED > 36500] <- NA\n",
    "  # Create column for years old instead of days old for readability\n",
    "  data$YearsOld <- data$DAYS_BIRTH / -365\n",
    " # Set fixed age bins (for example: from 20 to 80 in 10-year intervals)\n",
    "  age_bins <- seq(10, 100, by = 10)\n",
    "  data$age_group <- cut(data$YearsOld, breaks = age_bins, right = FALSE, include.lowest = TRUE, labels = FALSE)\n",
    "\n",
    "  return(data)\n",
    "}\n",
    "\n",
    "# Clean train and test data\n",
    "\n",
    "cleanedTrainData <- clean_data3(train_data)\n",
    "cleanedTestData <- clean_data3(test_data)\n",
    "cleanedTestData1 <- clean_data3(test_data)\n",
    "\n",
    "allTrain <- clean_data(train_data)\n",
    "\n",
    "# Split training data into training and validation sets\n",
    "trainIndex <- createDataPartition(cleanedTrainData$TARGET, p = 0.8, list = FALSE)\n",
    "trainSet <- cleanedTrainData[trainIndex, ]\n",
    "testSet <- cleanedTrainData[-trainIndex, ]\n",
    "\n",
    "cleanedTrainData <- trainSet\n",
    "cleanedTestData <- testSet\n",
    "\n",
    "trainTarget <- trainSet$TARGET\n",
    "testTarget <- testSet$TARGET"
   ]
  },
  {
   "cell_type": "markdown",
   "metadata": {
    "id": "Cyr5uin3mGCZ"
   },
   "source": [
    "## Impute missing data in both train and test datasets\n",
    "\n",
    "---\n",
    "\n"
   ]
  },
  {
   "cell_type": "code",
   "execution_count": null,
   "metadata": {
    "id": "Af_lUNH9mL22",
    "vscode": {
     "languageId": "r"
    }
   },
   "outputs": [],
   "source": [
    "# Impute train data\n",
    "missing_counts <- colSums(is.na(cleanedTrainData))\n",
    "missing_columns <- names(missing_counts[missing_counts > 0])\n",
    "\n",
    "for (col in missing_columns) {\n",
    "  if (is.numeric(cleanedTrainData[[col]])) {\n",
    "    cleanedTrainData[[col]][is.na(cleanedTrainData[[col]])] <- mean(cleanedTrainData[[col]], na.rm = TRUE)\n",
    "  } else {\n",
    "    print(paste(\"Column\", col, \"is not numeric; skipping imputation.\"))\n",
    "  }\n",
    "}\n",
    "for (col in missing_columns) {\n",
    "  if (is.factor(cleanedTrainData[[col]]) || is.character(cleanedTrainData[[col]])) {\n",
    "    mode_value <- as.character(names(sort(table(cleanedTrainData[[col]]), decreasing = TRUE)[1]))\n",
    "    cleanedTrainData[[col]][is.na(cleanedTrainData[[col]])] <- mode_value\n",
    "  }\n",
    "}\n",
    "\n",
    "for (col in missing_columns) {\n",
    "  cleanedTrainData[[col]][is.na(cleanedTrainData[[col]])] <- mean(cleanedTrainData[[col]], na.rm = TRUE)\n",
    "}"
   ]
  },
  {
   "cell_type": "code",
   "execution_count": null,
   "metadata": {
    "id": "fbE7r2QmmR1X",
    "vscode": {
     "languageId": "r"
    }
   },
   "outputs": [],
   "source": [
    "# Impute test data\n",
    "missing_counts <- colSums(is.na(cleanedTestData))\n",
    "missing_columns <- names(missing_counts[missing_counts > 0])\n",
    "\n",
    "for (col in missing_columns) {\n",
    "  if (is.numeric(cleanedTestData[[col]])) {\n",
    "    cleanedTestData[[col]][is.na(cleanedTestData[[col]])] <- mean(cleanedTestData[[col]], na.rm = TRUE)\n",
    "  } else {\n",
    "    print(paste(\"Column\", col, \"is not numeric; skipping imputation.\"))\n",
    "  }\n",
    "}\n",
    "for (col in missing_columns) {\n",
    "  if (is.factor(cleanedTestData[[col]]) || is.character(cleanedTestData[[col]])) {\n",
    "    mode_value <- as.character(names(sort(table(cleanedTestData[[col]]), decreasing = TRUE)[1]))\n",
    "    cleanedTestData[[col]][is.na(cleanedTestData[[col]])] <- mode_value\n",
    "  }\n",
    "}\n",
    "\n",
    "for (col in missing_columns) {\n",
    "  cleanedTestData[[col]][is.na(cleanedTestData[[col]])] <- mean(cleanedTestData[[col]], na.rm = TRUE)\n",
    "}"
   ]
  },
  {
   "cell_type": "code",
   "execution_count": null,
   "metadata": {
    "id": "Xdi9LGIsChkT",
    "vscode": {
     "languageId": "r"
    }
   },
   "outputs": [],
   "source": [
    "# Impute test data\n",
    "missing_counts <- colSums(is.na(cleanedTestData1))\n",
    "missing_columns <- names(missing_counts[missing_counts > 0])\n",
    "\n",
    "for (col in missing_columns) {\n",
    "  if (is.numeric(cleanedTestData1[[col]])) {\n",
    "    cleanedTestData1[[col]][is.na(cleanedTestData1[[col]])] <- mean(cleanedTestData1[[col]], na.rm = TRUE)\n",
    "  } else {\n",
    "    print(paste(\"Column\", col, \"is not numeric; skipping imputation.\"))\n",
    "  }\n",
    "}\n",
    "for (col in missing_columns) {\n",
    "  if (is.factor(cleanedTestData1[[col]]) || is.character(cleanedTestData1[[col]])) {\n",
    "    mode_value <- as.character(names(sort(table(cleanedTestData1[[col]]), decreasing = TRUE)[1]))\n",
    "    cleanedTestData1[[col]][is.na(cleanedTestData1[[col]])] <- mode_value\n",
    "  }\n",
    "}\n",
    "\n",
    "for (col in missing_columns) {\n",
    "  cleanedTestData1[[col]][is.na(cleanedTestData1[[col]])] <- mean(cleanedTestData1[[col]], na.rm = TRUE)\n",
    "}"
   ]
  },
  {
   "cell_type": "markdown",
   "metadata": {
    "id": "ImaJ8HkomWcP"
   },
   "source": [
    "## Run Linear Regression Models"
   ]
  },
  {
   "cell_type": "code",
   "execution_count": null,
   "metadata": {
    "id": "PxMrXAagmV_y",
    "vscode": {
     "languageId": "r"
    }
   },
   "outputs": [],
   "source": [
    "# Run a basic logistic regression\n",
    "base_model = lm(TARGET ~ ., data = cleanedTrainData)\n",
    "\n",
    "# Run an rpart model\n",
    "rpart_model = rpart(TARGET ~ ., data = cleanedTrainData)\n",
    "\n",
    "# Run a glm\n",
    "glm_model = glm(TARGET ~ ., data = cleanedTrainData, family = binomial)\n"
   ]
  },
  {
   "cell_type": "markdown",
   "metadata": {
    "id": "6Vdd8pxqvbWc"
   },
   "source": [
    "*Three* linear regression models were created to determine which test is the best predictor for the target. A base linear model was run along with an rpart model and a glm model. The results are below."
   ]
  },
  {
   "cell_type": "markdown",
   "metadata": {
    "id": "DjROAMPMmc73"
   },
   "source": [
    "## Generate each model's evaluation metrics (MAE, RMSE, MAPE, RMSPE, RAE, RRSE, R2) for test and training\n",
    "\n"
   ]
  },
  {
   "cell_type": "code",
   "execution_count": null,
   "metadata": {
    "colab": {
     "base_uri": "https://localhost:8080/",
     "height": 52
    },
    "id": "_nVt6L6WmjWo",
    "outputId": "11b018cb-2f3a-4f38-8d6c-89adba7bd0a1",
    "vscode": {
     "languageId": "r"
    }
   },
   "outputs": [
    {
     "data": {
      "text/html": [
       "<style>\n",
       ".dl-inline {width: auto; margin:0; padding: 0}\n",
       ".dl-inline>dt, .dl-inline>dd {float: none; width: auto; display: inline-block}\n",
       ".dl-inline>dt::after {content: \":\\0020\"; padding-right: .5ex}\n",
       ".dl-inline>dt:not(:first-of-type) {padding-left: .5ex}\n",
       "</style><dl class=dl-inline><dt>MAE</dt><dd>0.145282422287374</dd><dt>RMSE</dt><dd>0.26371284259274</dd><dt>MAPE</dt><dd>Inf</dd><dt>RMSPE</dt><dd>Inf</dd><dt>RAE</dt><dd>97.7626524282162</dd><dt>RRSE</dt><dd>96.7444878400434</dd><dt>COR</dt><dd>0.253081819293225</dd><dt>R2</dt><dd>0.0640504072567684</dd></dl>\n"
      ],
      "text/latex": [
       "\\begin{description*}\n",
       "\\item[MAE] 0.145282422287374\n",
       "\\item[RMSE] 0.26371284259274\n",
       "\\item[MAPE] Inf\n",
       "\\item[RMSPE] Inf\n",
       "\\item[RAE] 97.7626524282162\n",
       "\\item[RRSE] 96.7444878400434\n",
       "\\item[COR] 0.253081819293225\n",
       "\\item[R2] 0.0640504072567684\n",
       "\\end{description*}\n"
      ],
      "text/markdown": [
       "MAE\n",
       ":   0.145282422287374RMSE\n",
       ":   0.26371284259274MAPE\n",
       ":   InfRMSPE\n",
       ":   InfRAE\n",
       ":   97.7626524282162RRSE\n",
       ":   96.7444878400434COR\n",
       ":   0.253081819293225R2\n",
       ":   0.0640504072567684\n",
       "\n"
      ],
      "text/plain": [
       "        MAE        RMSE        MAPE       RMSPE         RAE        RRSE \n",
       " 0.14528242  0.26371284         Inf         Inf 97.76265243 96.74448784 \n",
       "        COR          R2 \n",
       " 0.25308182  0.06405041 "
      ]
     },
     "metadata": {},
     "output_type": "display_data"
    },
    {
     "data": {
      "text/html": [
       "<style>\n",
       ".dl-inline {width: auto; margin:0; padding: 0}\n",
       ".dl-inline>dt, .dl-inline>dd {float: none; width: auto; display: inline-block}\n",
       ".dl-inline>dt::after {content: \":\\0020\"; padding-right: .5ex}\n",
       ".dl-inline>dt:not(:first-of-type) {padding-left: .5ex}\n",
       "</style><dl class=dl-inline><dt>MAE</dt><dd>0.145066502217781</dd><dt>RMSE</dt><dd>0.263007585400425</dd><dt>MAPE</dt><dd>Inf</dd><dt>RMSPE</dt><dd>Inf</dd><dt>RAE</dt><dd>98.2255394644485</dd><dt>RRSE</dt><dd>96.7858600277474</dd><dt>COR</dt><dd>0.251525078020635</dd><dt>R2</dt><dd>0.0632648648732864</dd></dl>\n"
      ],
      "text/latex": [
       "\\begin{description*}\n",
       "\\item[MAE] 0.145066502217781\n",
       "\\item[RMSE] 0.263007585400425\n",
       "\\item[MAPE] Inf\n",
       "\\item[RMSPE] Inf\n",
       "\\item[RAE] 98.2255394644485\n",
       "\\item[RRSE] 96.7858600277474\n",
       "\\item[COR] 0.251525078020635\n",
       "\\item[R2] 0.0632648648732864\n",
       "\\end{description*}\n"
      ],
      "text/markdown": [
       "MAE\n",
       ":   0.145066502217781RMSE\n",
       ":   0.263007585400425MAPE\n",
       ":   InfRMSPE\n",
       ":   InfRAE\n",
       ":   98.2255394644485RRSE\n",
       ":   96.7858600277474COR\n",
       ":   0.251525078020635R2\n",
       ":   0.0632648648732864\n",
       "\n"
      ],
      "text/plain": [
       "        MAE        RMSE        MAPE       RMSPE         RAE        RRSE \n",
       " 0.14506650  0.26300759         Inf         Inf 98.22553946 96.78586003 \n",
       "        COR          R2 \n",
       " 0.25152508  0.06326486 "
      ]
     },
     "metadata": {},
     "output_type": "display_data"
    }
   ],
   "source": [
    "# lm model\n",
    "# Generate predictions\n",
    "predictions_base_train <- predict(base_model, cleanedTrainData)\n",
    "predictions_base_test <- predict(base_model, cleanedTestData)\n",
    "# Metrics on train data\n",
    "mmetric(trainTarget,predictions_base_train,c(\"MAE\",\"RMSE\",\"MAPE\",\"RMSPE\",\"RAE\", \"RRSE\", \"COR\", \"R2\"))\n",
    "# Metrics on test data\n",
    "mmetric(testTarget,predictions_base_test,c(\"MAE\",\"RMSE\",\"MAPE\",\"RMSPE\",\"RAE\", \"RRSE\", \"COR\", \"R2\"))\n"
   ]
  },
  {
   "cell_type": "code",
   "execution_count": null,
   "metadata": {
    "colab": {
     "base_uri": "https://localhost:8080/",
     "height": 52
    },
    "id": "fUWLL-mKmk6X",
    "outputId": "7e29bc0a-bd83-4acf-a05c-a95d7d02c428",
    "vscode": {
     "languageId": "r"
    }
   },
   "outputs": [
    {
     "data": {
      "text/html": [
       "<style>\n",
       ".dl-inline {width: auto; margin:0; padding: 0}\n",
       ".dl-inline>dt, .dl-inline>dd {float: none; width: auto; display: inline-block}\n",
       ".dl-inline>dt::after {content: \":\\0020\"; padding-right: .5ex}\n",
       ".dl-inline>dt:not(:first-of-type) {padding-left: .5ex}\n",
       "</style><dl class=dl-inline><dt>MAE</dt><dd>0.144369869488877</dd><dt>RMSE</dt><dd>0.268672541850555</dd><dt>MAPE</dt><dd>Inf</dd><dt>RMSPE</dt><dd>Inf</dd><dt>RAE</dt><dd>97.1485823937466</dd><dt>RRSE</dt><dd>98.5639804359312</dd><dt>COR</dt><dd>0.168861410815308</dd><dt>R2</dt><dd>0.0285141760625361</dd></dl>\n"
      ],
      "text/latex": [
       "\\begin{description*}\n",
       "\\item[MAE] 0.144369869488877\n",
       "\\item[RMSE] 0.268672541850555\n",
       "\\item[MAPE] Inf\n",
       "\\item[RMSPE] Inf\n",
       "\\item[RAE] 97.1485823937466\n",
       "\\item[RRSE] 98.5639804359312\n",
       "\\item[COR] 0.168861410815308\n",
       "\\item[R2] 0.0285141760625361\n",
       "\\end{description*}\n"
      ],
      "text/markdown": [
       "MAE\n",
       ":   0.144369869488877RMSE\n",
       ":   0.268672541850555MAPE\n",
       ":   InfRMSPE\n",
       ":   InfRAE\n",
       ":   97.1485823937466RRSE\n",
       ":   98.5639804359312COR\n",
       ":   0.168861410815308R2\n",
       ":   0.0285141760625361\n",
       "\n"
      ],
      "text/plain": [
       "        MAE        RMSE        MAPE       RMSPE         RAE        RRSE \n",
       " 0.14436987  0.26867254         Inf         Inf 97.14858239 98.56398044 \n",
       "        COR          R2 \n",
       " 0.16886141  0.02851418 "
      ]
     },
     "metadata": {},
     "output_type": "display_data"
    },
    {
     "data": {
      "text/html": [
       "<style>\n",
       ".dl-inline {width: auto; margin:0; padding: 0}\n",
       ".dl-inline>dt, .dl-inline>dd {float: none; width: auto; display: inline-block}\n",
       ".dl-inline>dt::after {content: \":\\0020\"; padding-right: .5ex}\n",
       ".dl-inline>dt:not(:first-of-type) {padding-left: .5ex}\n",
       "</style><dl class=dl-inline><dt>MAE</dt><dd>0.143882684517686</dd><dt>RMSE</dt><dd>0.267856391836828</dd><dt>MAPE</dt><dd>Inf</dd><dt>RMSPE</dt><dd>Inf</dd><dt>RAE</dt><dd>97.4239682509587</dd><dt>RRSE</dt><dd>98.5702036250655</dd><dt>COR</dt><dd>0.168507164142564</dd><dt>R2</dt><dd>0.0283946643673689</dd></dl>\n"
      ],
      "text/latex": [
       "\\begin{description*}\n",
       "\\item[MAE] 0.143882684517686\n",
       "\\item[RMSE] 0.267856391836828\n",
       "\\item[MAPE] Inf\n",
       "\\item[RMSPE] Inf\n",
       "\\item[RAE] 97.4239682509587\n",
       "\\item[RRSE] 98.5702036250655\n",
       "\\item[COR] 0.168507164142564\n",
       "\\item[R2] 0.0283946643673689\n",
       "\\end{description*}\n"
      ],
      "text/markdown": [
       "MAE\n",
       ":   0.143882684517686RMSE\n",
       ":   0.267856391836828MAPE\n",
       ":   InfRMSPE\n",
       ":   InfRAE\n",
       ":   97.4239682509587RRSE\n",
       ":   98.5702036250655COR\n",
       ":   0.168507164142564R2\n",
       ":   0.0283946643673689\n",
       "\n"
      ],
      "text/plain": [
       "        MAE        RMSE        MAPE       RMSPE         RAE        RRSE \n",
       " 0.14388268  0.26785639         Inf         Inf 97.42396825 98.57020363 \n",
       "        COR          R2 \n",
       " 0.16850716  0.02839466 "
      ]
     },
     "metadata": {},
     "output_type": "display_data"
    }
   ],
   "source": [
    "# rpart model\n",
    "# Generate predictions using the model tree\n",
    "predictions_rpart_train <- predict(rpart_model, cleanedTrainData)\n",
    "predictions_rpart_test <- predict(rpart_model, cleanedTestData)\n",
    "# Metrics on train data\n",
    "mmetric(trainTarget,predictions_rpart_train,c(\"MAE\",\"RMSE\",\"MAPE\",\"RMSPE\",\"RAE\", \"RRSE\",\"COR\", \"R2\"))\n",
    "# Metrics on test data\n",
    "mmetric(testTarget,predictions_rpart_test,c(\"MAE\",\"RMSE\",\"MAPE\",\"RMSPE\",\"RAE\", \"RRSE\",\"COR\", \"R2\"))\n"
   ]
  },
  {
   "cell_type": "code",
   "execution_count": null,
   "metadata": {
    "colab": {
     "base_uri": "https://localhost:8080/",
     "height": 52
    },
    "id": "E_gjD04LmkyO",
    "outputId": "bbbe4d3f-8fb9-4064-afe8-58ff779abac7",
    "vscode": {
     "languageId": "r"
    }
   },
   "outputs": [
    {
     "data": {
      "text/html": [
       "<style>\n",
       ".dl-inline {width: auto; margin:0; padding: 0}\n",
       ".dl-inline>dt, .dl-inline>dd {float: none; width: auto; display: inline-block}\n",
       ".dl-inline>dt::after {content: \":\\0020\"; padding-right: .5ex}\n",
       ".dl-inline>dt:not(:first-of-type) {padding-left: .5ex}\n",
       "</style><dl class=dl-inline><dt>MAE</dt><dd>2.87695243932927</dd><dt>RMSE</dt><dd>3.02428301046109</dd><dt>MAPE</dt><dd>Inf</dd><dt>RMSPE</dt><dd>Inf</dd><dt>RAE</dt><dd>1935.94308898785</dd><dt>RRSE</dt><dd>1109.47463936084</dd><dt>COR</dt><dd>0.248041641520358</dd><dt>R2</dt><dd>0.0615246559281138</dd></dl>\n"
      ],
      "text/latex": [
       "\\begin{description*}\n",
       "\\item[MAE] 2.87695243932927\n",
       "\\item[RMSE] 3.02428301046109\n",
       "\\item[MAPE] Inf\n",
       "\\item[RMSPE] Inf\n",
       "\\item[RAE] 1935.94308898785\n",
       "\\item[RRSE] 1109.47463936084\n",
       "\\item[COR] 0.248041641520358\n",
       "\\item[R2] 0.0615246559281138\n",
       "\\end{description*}\n"
      ],
      "text/markdown": [
       "MAE\n",
       ":   2.87695243932927RMSE\n",
       ":   3.02428301046109MAPE\n",
       ":   InfRMSPE\n",
       ":   InfRAE\n",
       ":   1935.94308898785RRSE\n",
       ":   1109.47463936084COR\n",
       ":   0.248041641520358R2\n",
       ":   0.0615246559281138\n",
       "\n"
      ],
      "text/plain": [
       "         MAE         RMSE         MAPE        RMSPE          RAE         RRSE \n",
       "2.876952e+00 3.024283e+00          Inf          Inf 1.935943e+03 1.109475e+03 \n",
       "         COR           R2 \n",
       "2.480416e-01 6.152466e-02 "
      ]
     },
     "metadata": {},
     "output_type": "display_data"
    },
    {
     "data": {
      "text/html": [
       "<style>\n",
       ".dl-inline {width: auto; margin:0; padding: 0}\n",
       ".dl-inline>dt, .dl-inline>dd {float: none; width: auto; display: inline-block}\n",
       ".dl-inline>dt::after {content: \":\\0020\"; padding-right: .5ex}\n",
       ".dl-inline>dt:not(:first-of-type) {padding-left: .5ex}\n",
       "</style><dl class=dl-inline><dt>MAE</dt><dd>2.8733192160965</dd><dt>RMSE</dt><dd>3.02136231069525</dd><dt>MAPE</dt><dd>Inf</dd><dt>RMSPE</dt><dd>Inf</dd><dt>RAE</dt><dd>1945.54446229731</dd><dt>RRSE</dt><dd>1111.8506306609</dd><dt>COR</dt><dd>0.246818942095233</dd><dt>R2</dt><dd>0.0609195901770099</dd></dl>\n"
      ],
      "text/latex": [
       "\\begin{description*}\n",
       "\\item[MAE] 2.8733192160965\n",
       "\\item[RMSE] 3.02136231069525\n",
       "\\item[MAPE] Inf\n",
       "\\item[RMSPE] Inf\n",
       "\\item[RAE] 1945.54446229731\n",
       "\\item[RRSE] 1111.8506306609\n",
       "\\item[COR] 0.246818942095233\n",
       "\\item[R2] 0.0609195901770099\n",
       "\\end{description*}\n"
      ],
      "text/markdown": [
       "MAE\n",
       ":   2.8733192160965RMSE\n",
       ":   3.02136231069525MAPE\n",
       ":   InfRMSPE\n",
       ":   InfRAE\n",
       ":   1945.54446229731RRSE\n",
       ":   1111.8506306609COR\n",
       ":   0.246818942095233R2\n",
       ":   0.0609195901770099\n",
       "\n"
      ],
      "text/plain": [
       "         MAE         RMSE         MAPE        RMSPE          RAE         RRSE \n",
       "2.873319e+00 3.021362e+00          Inf          Inf 1.945544e+03 1.111851e+03 \n",
       "         COR           R2 \n",
       "2.468189e-01 6.091959e-02 "
      ]
     },
     "metadata": {},
     "output_type": "display_data"
    }
   ],
   "source": [
    "# GLM model\n",
    "# Generate predictions using the model tree\n",
    "predictions_glm_train <- predict(glm_model, cleanedTrainData)\n",
    "predictions_glm_test <- predict(glm_model, cleanedTestData)\n",
    "# Metrics on train data\n",
    "mmetric(trainTarget,predictions_glm_train,c(\"MAE\",\"RMSE\",\"MAPE\",\"RMSPE\",\"RAE\",\"RRSE\",\"COR\",\"R2\"))\n",
    "# Metrics on test data\n",
    "mmetric(testTarget,predictions_glm_test,c(\"MAE\",\"RMSE\",\"MAPE\",\"RMSPE\",\"RAE\",\"RRSE\",\"COR\",\"R2\"))\n"
   ]
  },
  {
   "cell_type": "markdown",
   "metadata": {
    "id": "9KjAcLoFwBQx"
   },
   "source": [
    "The lm and rpart models produced very similar metrics. A low RMSE is a good indicator that these models are doing a good job of predicting the target variable, and in both cases the RMSE is 0.26. However, the model's relative absolute error is quite high, indicating that the models error levels are much higher than the baseline. The GLM had a very high RMSE and RAE, and had the worst metrics of all models tested. The R-squared value for the lm model was 0.06 and for the rpart model was 0.02. These are extremely low values, meaning that only 2% or 6% of the variance is explained by these models, respectively. This suggests poor model performance in terms of prediction accuracy and fit. This leads to the conclusion that a linear model would not be the best fit for this data, but this will be checked after a cross-validation is run."
   ]
  },
  {
   "cell_type": "markdown",
   "metadata": {
    "id": "g3k0JdpgmpvB"
   },
   "source": [
    "## Run a Cross-validation\n",
    "\n",
    "> Add blockquote\n",
    "\n"
   ]
  },
  {
   "cell_type": "markdown",
   "metadata": {
    "id": "-pxkcH-xvUQ3"
   },
   "source": [
    "A cross validation function is created below to validate the models run above."
   ]
  },
  {
   "cell_type": "code",
   "execution_count": null,
   "metadata": {
    "id": "twM0WKFLmrjw",
    "vscode": {
     "languageId": "r"
    }
   },
   "outputs": [],
   "source": [
    "# cross validation function\n",
    "cv_function <- function(df, target, nFolds, seedVal, prediction_method, metrics_list)\n",
    "{\n",
    "  # Create folds\n",
    "  set.seed(seedVal)\n",
    "  folds = createFolds(df[,target],nFolds)\n",
    "\n",
    "  # Perform cross validation\n",
    "  cv_results <- lapply(folds, function(x)\n",
    "  {\n",
    "    test_target <- df[x,target]\n",
    "    test_input  <- df[x,-target]\n",
    "\n",
    "    train_target <- df[-x,target]\n",
    "    train_input <- df[-x,-target]\n",
    "\n",
    "    prediction_model <- prediction_method(train_target~.,train_input)\n",
    "    pred <- predict(prediction_model,test_input)\n",
    "    return(mmetric(test_target,pred,metrics_list))\n",
    "  })\n",
    "\n",
    "  # Generate means and sds and show cv results, means and sds using kable\n",
    "  cv_results_m <- as.matrix(as.data.frame(cv_results))\n",
    "  cv_mean<- as.matrix(rowMeans(cv_results_m))\n",
    "  cv_sd <- as.matrix(rowSds(cv_results_m))\n",
    "  colnames(cv_mean) <- \"Mean\"\n",
    "  colnames(cv_sd) <- \"Sd\"\n",
    "  cv_all <- cbind(cv_results_m, cv_mean, cv_sd)\n",
    "  kable(t(cv_all),digits=2)\n",
    "}"
   ]
  },
  {
   "cell_type": "code",
   "execution_count": null,
   "metadata": {
    "colab": {
     "base_uri": "https://localhost:8080/",
     "height": 540
    },
    "id": "zzIop9Pqmuk8",
    "outputId": "190ff86a-08a1-4f7f-d826-877b73789676",
    "vscode": {
     "languageId": "r"
    }
   },
   "outputs": [
    {
     "ename": "ERROR",
     "evalue": "Error in `contrasts<-`(`*tmp*`, value = contr.funs[1 + isOF[nn]]): contrasts can be applied only to factors with 2 or more levels\n",
     "output_type": "error",
     "traceback": [
      "Error in `contrasts<-`(`*tmp*`, value = contr.funs[1 + isOF[nn]]): contrasts can be applied only to factors with 2 or more levels\nTraceback:\n",
      "1. lapply(folds, function(x) {\n .     test_target <- df[x, target]\n .     test_input <- df[x, -target]\n .     train_target <- df[-x, target]\n .     train_input <- df[-x, -target]\n .     prediction_model <- prediction_method(train_target ~ ., train_input)\n .     pred <- predict(prediction_model, test_input)\n .     return(mmetric(test_target, pred, metrics_list))\n . })",
      "2. FUN(X[[i]], ...)",
      "3. prediction_method(train_target ~ ., train_input)",
      "4. model.matrix(mt, mf, contrasts)",
      "5. model.matrix.default(mt, mf, contrasts)",
      "6. `contrasts<-`(`*tmp*`, value = contr.funs[1 + isOF[nn]])",
      "7. stop(\"contrasts can be applied only to factors with 2 or more levels\")",
      "8. .handleSimpleError(function (cnd) \n . {\n .     watcher$capture_plot_and_output()\n .     cnd <- sanitize_call(cnd)\n .     watcher$push(cnd)\n .     switch(on_error, continue = invokeRestart(\"eval_continue\"), \n .         stop = invokeRestart(\"eval_stop\"), error = invokeRestart(\"eval_error\", \n .             cnd))\n . }, \"contrasts can be applied only to factors with 2 or more levels\", \n .     base::quote(`contrasts<-`(`*tmp*`, value = contr.funs[1 + \n .         isOF[nn]])))"
     ]
    }
   ],
   "source": [
    "df <- allTrain\n",
    "target <- 8\n",
    "nFolds <- 5\n",
    "seedVal <- 123\n",
    "metrics_list <- c(\"MAE\",\"RMSE\",\"MAPE\",\"RMSPE\",\"RAE\",\"RRSE\",\"R2\")\n",
    "\n",
    "library(matrixStats)\n",
    "library(knitr)\n",
    "\n",
    "# lm\n",
    "assign(\"prediction_method\", lm)\n",
    "cv_function(df, target, nFolds, seedVal, prediction_method, metrics_list)\n",
    "\n",
    "# rpart\n",
    "assign(\"prediction_method\", rpart)\n",
    "cv_function(df, target, nFolds, seedVal, prediction_method, metrics_list)\n",
    "\n",
    "# GLM\n",
    "assign(\"prediction_method\", glm)\n",
    "cv_function(df, target, nFolds, seedVal, prediction_method, metrics_list)"
   ]
  },
  {
   "cell_type": "markdown",
   "metadata": {
    "id": "86QGrK6xu3-Y"
   },
   "source": [
    "Unfortunately, the cross validation function will not run with the lm and GLM functions. We are able to see from the rpart cross validation that the results of the cross validation are consistent with those of the model predictions and evaluations. The RMSE is quite large, meaning the error rate is high. The relative absolute error is slightly lower in the cross evaluation than the initial predictions, however it is still quite high. The R-squared value dropped to 0.01, meaning only 1% of variance is explained in the mode. This leads to the conclusion that a linear regression model is not a good fit for predicting the target for the home credit default risk.\n"
   ]
  },
  {
   "cell_type": "markdown",
   "metadata": {
    "id": "zqZm5QC1Ccj0"
   },
   "source": [
    "## Kaggle Score for Linear Regression"
   ]
  },
  {
   "cell_type": "code",
   "execution_count": null,
   "metadata": {
    "id": "E_QOKrgi84oF",
    "vscode": {
     "languageId": "r"
    }
   },
   "outputs": [],
   "source": [
    "glm_preds <- predict(glm_model, cleanedTestData1, type=\"response\")"
   ]
  },
  {
   "cell_type": "code",
   "execution_count": null,
   "metadata": {
    "id": "roXNvAcy8xmW",
    "vscode": {
     "languageId": "r"
    }
   },
   "outputs": [],
   "source": [
    "\n",
    "#binary_predictions_final_SVM <- ifelse(predictions_final_SVM > optimal_threshold, \"Y\", \"N\")\n",
    "\n",
    "# Load sample submission file\n",
    "sample_submission <- read.csv(\"/content/sample_submission.csv\")\n",
    "\n",
    "# Add predictions to the sample submission\n",
    "sample_submission$TARGET <- glm_preds\n",
    "\n",
    "# Save the updated submission file\n",
    "write.csv(sample_submission, \"/content/sample_Submission_LinearModel.csv\", row.names = FALSE)\n",
    "\n"
   ]
  },
  {
   "cell_type": "markdown",
   "metadata": {
    "id": "G_g7i1y_34_M"
   },
   "source": [
    "The returned Kaggle score for linear regression was approximately 0.73. This places the Linear Regression at nearly the same level as the LightGBM model, but allows for quicker fitting of the training data. This could indicate that a linear regression model may be optimal in some use cases, despit its slightly lower score."
   ]
  }
 ],
 "metadata": {
  "colab": {
   "collapsed_sections": [
    "jq-YSa6DIr2f",
    "BdJT65UhUFZ0",
    "5dF5Z_RE7Cii",
    "kvP0IPKZ7LvQ"
   ],
   "provenance": []
  },
  "kernelspec": {
   "display_name": "R",
   "name": "ir"
  },
  "language_info": {
   "name": "R"
  }
 },
 "nbformat": 4,
 "nbformat_minor": 0
}
